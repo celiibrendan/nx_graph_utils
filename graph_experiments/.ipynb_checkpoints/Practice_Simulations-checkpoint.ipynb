{
 "cells": [
  {
   "cell_type": "code",
   "execution_count": null,
   "metadata": {},
   "outputs": [],
   "source": [
    "import graph_generating_functions_library as g_gen\n",
    "import graph_visualizations as g_viz\n",
    "import graph_statistics_and_simulations as g_stat\n",
    "import matplotlib.pyplot as plt\n",
    "import networkx as nx\n",
    "\n",
    "from importlib import reload\n",
    "import numpy as np\n",
    "g_gen = reload(g_gen)\n",
    "g_viz = reload(g_viz)\n",
    "g_stat = reload(g_stat)"
   ]
  },
  {
   "cell_type": "code",
   "execution_count": null,
   "metadata": {},
   "outputs": [],
   "source": [
    "list_of_functions=[k for k in dir(g_stat) if \"directional\" in dir(getattr(g_stat,k))]\n",
    "list_function_not_run = ['smallest_laplacian_eigen_value',\n",
    "                        'node_connectivity',\n",
    "                        \"average_degree_connectivity\"]\n",
    "\n",
    "for fn in list_function_not_run:\n",
    "    list_of_functions.remove(fn)\n",
    "list_of_functions\n",
    "\n",
    "functions_list = [getattr(g_stat,k) for k in list_of_functions]\n",
    "functions_list"
   ]
  },
  {
   "cell_type": "markdown",
   "metadata": {},
   "source": [
    "# Graphs already available through networkx"
   ]
  },
  {
   "cell_type": "code",
   "execution_count": null,
   "metadata": {},
   "outputs": [],
   "source": [
    "G  = g_gen.erdos_renyi_random_location(n=10,p=0.4)\n",
    "G = g_gen.watts_strogatz_graph_smallworld_random_location(n=10,k=3,p=0.5)\n",
    "G = g_gen.random_tree_random_location(n=12)\n",
    "G = g_gen.random_uniform(n=10,k=4)"
   ]
  },
  {
   "cell_type": "markdown",
   "metadata": {},
   "source": [
    "# Graphs for specific degree sequence"
   ]
  },
  {
   "cell_type": "code",
   "execution_count": null,
   "metadata": {},
   "outputs": [],
   "source": [
    "\"\"\"\n",
    "#Checking that degree sequences worked\n",
    "sequences = [k for v,k in dict(G.degree).items()]\n",
    "\n",
    "plt.hist(sequences)\n",
    "\"\"\"\n",
    "\n",
    "G = g_gen.random_power_law(n=100,alpha=2.3)"
   ]
  },
  {
   "cell_type": "markdown",
   "metadata": {},
   "source": [
    "# Graphs with Growing Functions"
   ]
  },
  {
   "cell_type": "code",
   "execution_count": null,
   "metadata": {},
   "outputs": [],
   "source": [
    "\"\"\"\n",
    "Need to account for these guys failing\n",
    "\"\"\""
   ]
  },
  {
   "cell_type": "code",
   "execution_count": null,
   "metadata": {},
   "outputs": [],
   "source": [
    "# Graphs that have growing functions: \n",
    "G = g_gen.linear_preferencial_attachment_random(n=20,m=5,p_start = 0.5)\n",
    "G = g_gen.linear_preferncial_attachment_wheel(n=15,m=5)\n",
    "\n",
    "G = g_gen.vertex_duplication(n=15,p=0.4)\n",
    "G = g_gen.vertex_duplication_with_mutation(n=15,p=0.5,p_mut=0.3)\n",
    "#p_con = deciding whether to connect it to the one we copied\n",
    "G = g_gen.vertex_duplication_with_complement(n=14,p = 0.6,p_con=0.6)"
   ]
  },
  {
   "cell_type": "markdown",
   "metadata": {},
   "source": [
    "# How to run an experiment with different Functions"
   ]
  },
  {
   "cell_type": "code",
   "execution_count": null,
   "metadata": {},
   "outputs": [],
   "source": [
    "import graph_generating_functions_library as g_gen\n",
    "import graph_visualizations as g_viz\n",
    "import graph_statistics_and_simulations as g_stat\n",
    "import matplotlib.pyplot as plt\n",
    "import networkx as nx\n",
    "\n",
    "from importlib import reload\n",
    "import numpy as np\n",
    "g_gen = reload(g_gen)\n",
    "g_viz = reload(g_viz)\n",
    "g_stat = reload(g_stat)"
   ]
  },
  {
   "cell_type": "code",
   "execution_count": null,
   "metadata": {},
   "outputs": [],
   "source": [
    "loop_1.values()"
   ]
  },
  {
   "cell_type": "code",
   "execution_count": null,
   "metadata": {},
   "outputs": [],
   "source": [
    "g_gen.linear_preferncial_attachment_wheel.__name__"
   ]
  },
  {
   "cell_type": "code",
   "execution_count": null,
   "metadata": {},
   "outputs": [],
   "source": [
    "graph_function = g_gen.linear_preferncial_attachment_wheel\n",
    "\n",
    "loop_1 = dict(n=[20,40, 80])\n",
    "loop_2 = dict(m=[6])\n",
    "\n",
    "iterable_loops = [loop_1,loop_2]\n",
    "print(f\"Number of loops to run from param combinations = \"\n",
    "          f\"{[np.prod([len((list(k.values()))[0]) for k in iterable_loops])]}\")\n",
    "\n",
    "n_iterations = 5\n",
    "\n",
    "data_structure_LPA = g_stat.run_graph_experiment(graph_function,\n",
    "                        functions_list,\n",
    "                        iterable_loops,\n",
    "                         n_iterations,\n",
    "                         func_args = dict()\n",
    "                                     )"
   ]
  },
  {
   "cell_type": "code",
   "execution_count": null,
   "metadata": {},
   "outputs": [],
   "source": [
    "graph_function = g_gen.vertex_duplication_with_complement\n",
    "\n",
    "loop_1 = dict(n=[10,20,50,100,150,200])\n",
    "loop_2 = dict(p=[0.05,0.1,0.15,0.2,0.25,0.3,0.35,0.4])\n",
    "loop_3 = dict(p_con=[0.1,0.2,0.4,0.6,0.8])\n",
    "\n",
    "loop_1 = dict(n=[20,40, 80])\n",
    "loop_2 = dict(p=[0.4])\n",
    "loop_3 = dict(p_con=[0.8])\n",
    "\n",
    "iterable_loops = [loop_1,loop_2,loop_3]\n",
    "print(f\"Number of loops to run from param combinations = \"\n",
    "          f\"{[np.prod([len((list(k.values()))[0]) for k in iterable_loops])]}\")\n",
    "\n",
    "n_iterations = 5\n",
    "\n",
    "data_structure_vertex_duplication = g_stat.run_graph_experiment(graph_function,\n",
    "                        functions_list,\n",
    "                        iterable_loops,\n",
    "                         n_iterations,\n",
    "                         func_args = dict()\n",
    "                                     )"
   ]
  },
  {
   "cell_type": "code",
   "execution_count": null,
   "metadata": {},
   "outputs": [],
   "source": [
    "data_structure_total = dict()\n",
    "dict_to_combine = [data_structure_vertex_duplication,data_structure_LPA]\n",
    "for dk in dict_to_combine:\n",
    "    data_structure_total.update(dk)\n",
    "df = g_stat.table_comparison_statistics(data_structure_total)"
   ]
  },
  {
   "cell_type": "code",
   "execution_count": null,
   "metadata": {},
   "outputs": [],
   "source": [
    "df"
   ]
  },
  {
   "cell_type": "code",
   "execution_count": null,
   "metadata": {},
   "outputs": [],
   "source": [
    "np.savez(\"example_df_2.npz\",df=df)"
   ]
  },
  {
   "cell_type": "code",
   "execution_count": null,
   "metadata": {},
   "outputs": [],
   "source": [
    "fig = g_viz.graph_network_matplotlib(G,plot_type=\"2D\",\n",
    "                                          colors=\"red\",\n",
    "                                         colors_edge = \"blue\",\n",
    "                                            node_size = 64,\n",
    "                                       node_label_size=10,\n",
    "                                       return_fig=True)"
   ]
  }
 ],
 "metadata": {
  "kernelspec": {
   "display_name": "Python 3",
   "language": "python",
   "name": "python3"
  },
  "language_info": {
   "codemirror_mode": {
    "name": "ipython",
    "version": 3
   },
   "file_extension": ".py",
   "mimetype": "text/x-python",
   "name": "python",
   "nbconvert_exporter": "python",
   "pygments_lexer": "ipython3",
   "version": "3.6.8"
  }
 },
 "nbformat": 4,
 "nbformat_minor": 4
}
