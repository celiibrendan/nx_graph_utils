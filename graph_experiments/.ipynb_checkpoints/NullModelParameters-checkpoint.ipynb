{
 "cells": [
  {
   "cell_type": "code",
   "execution_count": null,
   "metadata": {},
   "outputs": [],
   "source": [
    "\"\"\"\n",
    "Purpose: To create all the options of null models\n",
    "to run through the statistics analysis\n",
    "\n",
    "Reason for doing that:\n",
    "1) Figure out what will be the edge count for different parameters\n",
    "2) Be able to pick clusters of null models with about \n",
    "same number of nodes and edges that can be used for comparisons\n",
    "(independent of their parameters)\n",
    "\"\"\""
   ]
  },
  {
   "cell_type": "code",
   "execution_count": null,
   "metadata": {},
   "outputs": [],
   "source": [
    "import numpy as np"
   ]
  },
  {
   "cell_type": "code",
   "execution_count": 4,
   "metadata": {},
   "outputs": [
    {
     "name": "stdout",
     "output_type": "stream",
     "text": [
      "Connecting celiib@10.28.0.34:3306\n"
     ]
    }
   ],
   "source": [
    "import datajoint as dj\n",
    "import numpy as np\n",
    "m65 = dj.create_virtual_module('m65', 'microns_minnie65_01')\n",
    "schema = dj.schema(\"microns_minnie65_01\")\n",
    "dj.config[\"display.limit\"] = 20"
   ]
  },
  {
   "cell_type": "code",
   "execution_count": null,
   "metadata": {},
   "outputs": [],
   "source": [
    "from importlib import reload\n",
    "import graph_generating_functions_library as g_gen\n",
    "g_gen= reload(g_gen)"
   ]
  },
  {
   "cell_type": "code",
   "execution_count": 1,
   "metadata": {},
   "outputs": [],
   "source": [
    "from graph_generating_functions_library import *\n",
    "\n",
    "total_graphs = [\n",
    "\"erdos_renyi_random_location\",\n",
    "\"watts_strogatz_graph_smallworld_random_location\",\n",
    "\"random_tree_random_location\",\n",
    "\"random_uniform\",\n",
    "\"random_power_law\",\n",
    "\"linear_preferencial_attachment_random\",\n",
    "\"linear_preferncial_attachment_wheel\",\n",
    "\"vertex_duplication\",\n",
    "\"vertex_duplication_with_mutation\",\n",
    "\"vertex_duplication_with_complement\"\n",
    "]\n",
    "\n",
    "n_options = np.arange(40,1000,40).astype(\"int\")\n",
    "m_options = np.arange(5,20,5).astype(\"int\")\n",
    "p_options = np.round(np.arange(0.1,0.9,0.2),2)\n",
    "p2_options = np.round(np.arange(0.1,0.9,0.2),2)\n",
    "alpha_options = np.round(np.arange(1.5,3.5,0.1),2)\n",
    "\n",
    "graph_parameters_to_iterate = {\n",
    "    erdos_renyi_random_location:dict(\n",
    "                                    n=n_options,\n",
    "                                    p=p_options),\n",
    "    watts_strogatz_graph_smallworld_random_location: dict(\n",
    "        n=n_options,\n",
    "        p=p_options,\n",
    "        m=m_options\n",
    "    ),\n",
    "    random_tree_random_location: dict(\n",
    "        n=n_options),\n",
    "    \n",
    "    random_uniform: dict(n=n_options,\n",
    "                  m=m_options),\n",
    "    \n",
    "    random_power_law:dict(n=n_options,\n",
    "                     alpha=alpha_options),\n",
    "    \n",
    "    linear_preferencial_attachment_random:dict(\n",
    "    n=n_options,\n",
    "    m=m_options,\n",
    "        p=p_options,\n",
    "    ), \n",
    "    \n",
    "    linear_preferncial_attachment_wheel:dict(\n",
    "    n=n_options,\n",
    "        m=m_options),\n",
    "    \n",
    "    vertex_duplication:dict(n=n_options,\n",
    "                           p=p_options),\n",
    "    \n",
    "    vertex_duplication_with_mutation:dict(n=n_options,\n",
    "                                         p=p_options,\n",
    "                                         p2=p2_options),\n",
    "    \n",
    "    \n",
    "    vertex_duplication_with_complement:dict(n=n_options,\n",
    "                                           p=p_options,\n",
    "                                           p2=p2_options)\n",
    "        \n",
    "}\n",
    "\n"
   ]
  },
  {
   "cell_type": "code",
   "execution_count": 2,
   "metadata": {},
   "outputs": [
    {
     "data": {
      "text/plain": [
       "80771626"
      ]
     },
     "execution_count": 2,
     "metadata": {},
     "output_type": "execute_result"
    }
   ],
   "source": [
    "import hashlib\n",
    "\n",
    "def hash_string(s):\n",
    "    return int(hashlib.sha256(s.encode('utf-8')).hexdigest(), 16) % 10**8\n",
    "\n",
    "def get_graph_hash(func_name,param_dict):\n",
    "    total_s = func_name  \n",
    "    for k,v in param_dict.items():\n",
    "        total_s += f\"_{k}_{v}\"\n",
    "    #print(\"total_s = \" + total_s)\n",
    "    return hash_string(total_s)\n",
    "\n",
    "play_dict = dict(n=10,p=5)\n",
    "get_graph_hash(\"Brendan\",play_dict)"
   ]
  },
  {
   "cell_type": "code",
   "execution_count": null,
   "metadata": {},
   "outputs": [],
   "source": [
    "@schema\n",
    "class NullModelParameters(dj.Manual):\n",
    "    definition=\"\"\"\n",
    "    graph_hash: int unsigned # the hash of the type of graph\n",
    "    ---\n",
    "    graph_name : char(60)              # the type of graph used to generate\n",
    "    n =NULL:          int unsigned      # number of nodes\n",
    "    p=NULL :          double            # probability of connection ro duplication or rearranging an edge\n",
    "    m=NULL :          int unsigned      # number of desired edges\n",
    "    alpha=NULL:       double            # the exponent for the power sequence\n",
    "    p2=NULL:          double            # another probability that is used for generation\n",
    "    edge_average  :    double #the average number of edges\n",
    "    edge_deviation :   double #the deviation of the edge sizes\n",
    "    \"\"\"\n"
   ]
  },
  {
   "cell_type": "code",
   "execution_count": null,
   "metadata": {},
   "outputs": [],
   "source": [
    "NullModelParameters()"
   ]
  },
  {
   "cell_type": "code",
   "execution_count": null,
   "metadata": {
    "jupyter": {
     "source_hidden": true
    }
   },
   "outputs": [],
   "source": [
    "n_iterations = 20\n",
    "import itertools\n",
    "\n",
    "total_combin = 0\n",
    "for g_func,g_param_dict in graph_parameters_to_iterate.items():\n",
    "    print(f\"\\nWorking on graph:{g_func.__name__}\")\n",
    "    \n",
    "    iterable_loops = [dict([(k,v)]) for k,v in g_param_dict.items()]\n",
    "    #print(\"iterable_loops = \" + str(iterable_loops))\n",
    "    parameter_names = [list(k.keys())[0] for k in iterable_loops]\n",
    "\n",
    "    # initializing list of list  \n",
    "    all_list = [k[list(k.keys())[0]] for k in iterable_loops]\n",
    "\n",
    "\n",
    "    parameter_combinations = list(itertools.product(*all_list)) \n",
    "    print(\"len(parameter_combinations) = \" + str(len(parameter_combinations)))\n",
    "    total_combin += len(parameter_combinations)\n",
    "    #for param_dict in [dict([(k,v) for k,v in zip(parameter_names,j)]) for j in parameter_combinations]:\n",
    "        \n",
    "print(\"Total Datapoints = \" + str(total_combin))\n",
    "        \n",
    "    \n",
    "          "
   ]
  },
  {
   "cell_type": "markdown",
   "metadata": {},
   "source": [
    "# Running the Erdos Renyi Graphs"
   ]
  },
  {
   "cell_type": "code",
   "execution_count": null,
   "metadata": {},
   "outputs": [],
   "source": [
    "# The models I want to run\n",
    "graph_models_to_run = [\n",
    "    \"LPA_random\",\n",
    "    \"VD_basic\",\n",
    "    \"VD_mutation\",\n",
    "    \"VD_complement\"\n",
    "]"
   ]
  },
  {
   "cell_type": "code",
   "execution_count": null,
   "metadata": {},
   "outputs": [],
   "source": [
    "n_iterations = 20\n",
    "from tqdm import tqdm\n",
    "import itertools\n",
    "\n",
    "\n",
    "for g_func,g_param_dict in graph_parameters_to_iterate.items():\n",
    "    print(f\"\\nWorking on graph:{g_func.__name__}\")\n",
    "    \n",
    "    if g_func.__name__ not in graph_models_to_run:\n",
    "        print(\"Not in list to run so skipping\")\n",
    "        continue\n",
    "    \n",
    "    iterable_loops = [dict([(k,v)]) for k,v in g_param_dict.items()]\n",
    "    #print(\"iterable_loops = \" + str(iterable_loops))\n",
    "    parameter_names = [list(k.keys())[0] for k in iterable_loops]\n",
    "\n",
    "    # initializing list of list  \n",
    "    all_list = [k[list(k.keys())[0]] for k in iterable_loops]\n",
    "\n",
    "\n",
    "    parameter_combinations = list(itertools.product(*all_list)) \n",
    "    print(\"len(parameter_combinations) = \" + str(len(parameter_combinations)))\n",
    "    param_dict_combinations = [dict([(k,v) for k,v in zip(parameter_names,j)]) for j in parameter_combinations]\n",
    "    dicts_to_insert = []\n",
    "    for u,param_dict in enumerate(tqdm(param_dict_combinations)):\n",
    "#         if u > 3:\n",
    "#             break\n",
    "        edge_list= []\n",
    "        for i in range(n_iterations):\n",
    "            try:\n",
    "                G = g_func(**param_dict)\n",
    "                edge_list.append(len(G.edges()))\n",
    "            except:\n",
    "                print(f\"Could not generate this graph with param = {param_dict} so moving to next combination\")\n",
    "                break\n",
    "        \n",
    "        #continue if couldn't make the graph\n",
    "        if len(edge_list) != n_iterations:\n",
    "            continue\n",
    "                \n",
    "        \"\"\"\n",
    "        graph_name : char(60)              # the type of graph used to generate\n",
    "        n =NULL:          int unsigned      # number of nodes\n",
    "        p=NULL :          double            # probability of connection ro duplication or rearranging an edge\n",
    "        m=NULL :          int unsigned      # number of desired edges\n",
    "        alpha=NULL:       double            # the exponent for the power sequence\n",
    "        p2=NULL:          double            # another probability that is used for generation\n",
    "        edge_average  :    double #the average number of edges\n",
    "        edge_deviation :   double #the deviation of the edge sizes\n",
    "        \"\"\"\n",
    "        \n",
    "        graph_hash = get_graph_hash(g_func.__name__,param_dict)\n",
    "        \n",
    "        #compute the edge statistics\n",
    "        insert_dict = dict(param_dict,\n",
    "                           graph_hash = graph_hash,\n",
    "                           graph_name=g_func.__name__,\n",
    "                           edge_average=np.mean(edge_list),\n",
    "                           edge_deviation=np.std(edge_list)\n",
    "                          )\n",
    "        dicts_to_insert.append(insert_dict)\n",
    "        \n",
    "    NullModelParameters.insert(dicts_to_insert,skip_duplicates=True)\n",
    "        \n",
    "    \n",
    "          "
   ]
  },
  {
   "cell_type": "code",
   "execution_count": 5,
   "metadata": {},
   "outputs": [
    {
     "data": {
      "text/html": [
       "\n",
       "        \n",
       "        <style type=\"text/css\">\n",
       "            .Relation{\n",
       "                border-collapse:collapse;\n",
       "            }\n",
       "            .Relation th{\n",
       "                background: #A0A0A0; color: #ffffff; padding:4px; border:#f0e0e0 1px solid;\n",
       "                font-weight: normal; font-family: monospace; font-size: 100%;\n",
       "            }\n",
       "            .Relation td{\n",
       "                padding:4px; border:#f0e0e0 1px solid; font-size:100%;\n",
       "            }\n",
       "            .Relation tr:nth-child(odd){\n",
       "                background: #ffffff;\n",
       "            }\n",
       "            .Relation tr:nth-child(even){\n",
       "                background: #f3f1ff;\n",
       "            }\n",
       "            /* Tooltip container */\n",
       "            .djtooltip {\n",
       "            }\n",
       "            /* Tooltip text */\n",
       "            .djtooltip .djtooltiptext {\n",
       "                visibility: hidden;\n",
       "                width: 120px;\n",
       "                background-color: black;\n",
       "                color: #fff;\n",
       "                text-align: center;\n",
       "                padding: 5px 0;\n",
       "                border-radius: 6px;\n",
       "                /* Position the tooltip text - see examples below! */\n",
       "                position: absolute;\n",
       "                z-index: 1;\n",
       "            }\n",
       "            #primary {\n",
       "                font-weight: bold;\n",
       "                color: black;\n",
       "            }\n",
       "\n",
       "            #nonprimary {\n",
       "                font-weight: normal;\n",
       "                color: white;\n",
       "            }\n",
       "\n",
       "            /* Show the tooltip text when you mouse over the tooltip container */\n",
       "            .djtooltip:hover .djtooltiptext {\n",
       "                visibility: visible;\n",
       "            }\n",
       "        </style>\n",
       "        \n",
       "        <b></b>\n",
       "            <div style=\"max-height:1000px;max-width:1500px;overflow:auto;\">\n",
       "            <table border=\"1\" class=\"Relation\">\n",
       "                <thead> <tr style=\"text-align: right;\"> <th> <div class=\"djtooltip\">\n",
       "                                <p id=\"primary\">graph_hash</p>\n",
       "                                <span class=\"djtooltiptext\">the hash of the type of graph</span>\n",
       "                            </div></th><th><div class=\"djtooltip\">\n",
       "                                <p id=\"nonprimary\">graph_name</p>\n",
       "                                <span class=\"djtooltiptext\">the type of graph used to generate</span>\n",
       "                            </div></th><th><div class=\"djtooltip\">\n",
       "                                <p id=\"nonprimary\">n</p>\n",
       "                                <span class=\"djtooltiptext\">number of nodes</span>\n",
       "                            </div></th><th><div class=\"djtooltip\">\n",
       "                                <p id=\"nonprimary\">p</p>\n",
       "                                <span class=\"djtooltiptext\">probability of connection ro duplication or rearranging an edge</span>\n",
       "                            </div></th><th><div class=\"djtooltip\">\n",
       "                                <p id=\"nonprimary\">m</p>\n",
       "                                <span class=\"djtooltiptext\">number of desired edges</span>\n",
       "                            </div></th><th><div class=\"djtooltip\">\n",
       "                                <p id=\"nonprimary\">alpha</p>\n",
       "                                <span class=\"djtooltiptext\">the exponent for the power sequence</span>\n",
       "                            </div></th><th><div class=\"djtooltip\">\n",
       "                                <p id=\"nonprimary\">p2</p>\n",
       "                                <span class=\"djtooltiptext\">another probability that is used for generation</span>\n",
       "                            </div></th><th><div class=\"djtooltip\">\n",
       "                                <p id=\"nonprimary\">edge_average</p>\n",
       "                                <span class=\"djtooltiptext\">the average number of edges</span>\n",
       "                            </div></th><th><div class=\"djtooltip\">\n",
       "                                <p id=\"nonprimary\">edge_deviation</p>\n",
       "                                <span class=\"djtooltiptext\">the deviation of the edge sizes</span>\n",
       "                            </div> </th> </tr> </thead>\n",
       "                <tbody> <tr>  </tr> </tbody>\n",
       "            </table>\n",
       "            \n",
       "            <p>Total: 0</p></div>\n",
       "            "
      ],
      "text/plain": [
       "*graph_hash    graph_name     n     p     m     alpha     p2     edge_average   edge_deviation\n",
       "+------------+ +------------+ +---+ +---+ +---+ +-------+ +----+ +------------+ +------------+\n",
       "\n",
       " (Total: 0)"
      ]
     },
     "execution_count": 5,
     "metadata": {},
     "output_type": "execute_result"
    }
   ],
   "source": [
    "m65.NullModelParameters()"
   ]
  },
  {
   "cell_type": "code",
   "execution_count": null,
   "metadata": {},
   "outputs": [],
   "source": [
    "dicts_to_insert[0]"
   ]
  }
 ],
 "metadata": {
  "kernelspec": {
   "display_name": "Python 3",
   "language": "python",
   "name": "python3"
  },
  "language_info": {
   "codemirror_mode": {
    "name": "ipython",
    "version": 3
   },
   "file_extension": ".py",
   "mimetype": "text/x-python",
   "name": "python",
   "nbconvert_exporter": "python",
   "pygments_lexer": "ipython3",
   "version": "3.6.8"
  }
 },
 "nbformat": 4,
 "nbformat_minor": 4
}
