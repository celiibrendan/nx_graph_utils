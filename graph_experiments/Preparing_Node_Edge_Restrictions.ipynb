{
 "cells": [
  {
   "cell_type": "code",
   "execution_count": null,
   "metadata": {},
   "outputs": [],
   "source": [
    "\"\"\"\n",
    "Purpose: To create a table that has all of the stats run for graphs\n",
    "with about the same number of average edges\n",
    "\n",
    "Pseudocode:\n",
    "1) Identify Suitable node number and edge range \n",
    "To get a lot of graphs from different graph types\n",
    "- use it to restrict our parameter table\n",
    "2) For each row in the restricted table\n",
    "a. Pull down parameters\n",
    "b. Run statistics machine on them\n",
    "c. Push the average statistics\n",
    "\n",
    "3) Can run these jobs in parallel and then \n",
    "pull them down as dataframe to analyze them\n",
    "\n",
    "\"\"\""
   ]
  },
  {
   "cell_type": "code",
   "execution_count": 1,
   "metadata": {},
   "outputs": [
    {
     "name": "stdout",
     "output_type": "stream",
     "text": [
      "Connecting celiib@10.28.0.34:3306\n"
     ]
    }
   ],
   "source": [
    "import datajoint as dj\n",
    "import numpy as np\n",
    "m65 = dj.create_virtual_module('m65', 'microns_minnie65_01')\n",
    "schema = dj.schema(\"microns_minnie65_01\")\n",
    "dj.config[\"display.limit\"] = 100"
   ]
  },
  {
   "cell_type": "code",
   "execution_count": 2,
   "metadata": {},
   "outputs": [],
   "source": [
    "from importlib import reload\n",
    "import graph_generating_functions_library as g_gen\n",
    "import graph_statistics_and_simulations as g_stat\n",
    "g_gen= reload(g_gen)\n",
    "g_stat= reload(g_stat)"
   ]
  },
  {
   "cell_type": "code",
   "execution_count": 3,
   "metadata": {},
   "outputs": [
    {
     "name": "stdout",
     "output_type": "stream",
     "text": [
      "n=280 AND edge_average>900 AND edge_average<1100\n"
     ]
    },
    {
     "data": {
      "text/html": [
       "\n",
       "        \n",
       "        <style type=\"text/css\">\n",
       "            .Relation{\n",
       "                border-collapse:collapse;\n",
       "            }\n",
       "            .Relation th{\n",
       "                background: #A0A0A0; color: #ffffff; padding:4px; border:#f0e0e0 1px solid;\n",
       "                font-weight: normal; font-family: monospace; font-size: 100%;\n",
       "            }\n",
       "            .Relation td{\n",
       "                padding:4px; border:#f0e0e0 1px solid; font-size:100%;\n",
       "            }\n",
       "            .Relation tr:nth-child(odd){\n",
       "                background: #ffffff;\n",
       "            }\n",
       "            .Relation tr:nth-child(even){\n",
       "                background: #f3f1ff;\n",
       "            }\n",
       "            /* Tooltip container */\n",
       "            .djtooltip {\n",
       "            }\n",
       "            /* Tooltip text */\n",
       "            .djtooltip .djtooltiptext {\n",
       "                visibility: hidden;\n",
       "                width: 120px;\n",
       "                background-color: black;\n",
       "                color: #fff;\n",
       "                text-align: center;\n",
       "                padding: 5px 0;\n",
       "                border-radius: 6px;\n",
       "                /* Position the tooltip text - see examples below! */\n",
       "                position: absolute;\n",
       "                z-index: 1;\n",
       "            }\n",
       "            #primary {\n",
       "                font-weight: bold;\n",
       "                color: black;\n",
       "            }\n",
       "\n",
       "            #nonprimary {\n",
       "                font-weight: normal;\n",
       "                color: white;\n",
       "            }\n",
       "\n",
       "            /* Show the tooltip text when you mouse over the tooltip container */\n",
       "            .djtooltip:hover .djtooltiptext {\n",
       "                visibility: visible;\n",
       "            }\n",
       "        </style>\n",
       "        \n",
       "        <b></b>\n",
       "            <div style=\"max-height:1000px;max-width:1500px;overflow:auto;\">\n",
       "            <table border=\"1\" class=\"Relation\">\n",
       "                <thead> <tr style=\"text-align: right;\"> <th> <div class=\"djtooltip\">\n",
       "                                <p id=\"primary\">graph_hash</p>\n",
       "                                <span class=\"djtooltiptext\">the hash of the type of graph</span>\n",
       "                            </div></th><th><div class=\"djtooltip\">\n",
       "                                <p id=\"nonprimary\">graph_name</p>\n",
       "                                <span class=\"djtooltiptext\">the type of graph used to generate</span>\n",
       "                            </div></th><th><div class=\"djtooltip\">\n",
       "                                <p id=\"nonprimary\">n</p>\n",
       "                                <span class=\"djtooltiptext\">number of nodes</span>\n",
       "                            </div></th><th><div class=\"djtooltip\">\n",
       "                                <p id=\"nonprimary\">p</p>\n",
       "                                <span class=\"djtooltiptext\">probability of connection ro duplication or rearranging an edge</span>\n",
       "                            </div></th><th><div class=\"djtooltip\">\n",
       "                                <p id=\"nonprimary\">m</p>\n",
       "                                <span class=\"djtooltiptext\">number of desired edges</span>\n",
       "                            </div></th><th><div class=\"djtooltip\">\n",
       "                                <p id=\"nonprimary\">alpha</p>\n",
       "                                <span class=\"djtooltiptext\">the exponent for the power sequence</span>\n",
       "                            </div></th><th><div class=\"djtooltip\">\n",
       "                                <p id=\"nonprimary\">p2</p>\n",
       "                                <span class=\"djtooltiptext\">another probability that is used for generation</span>\n",
       "                            </div></th><th><div class=\"djtooltip\">\n",
       "                                <p id=\"nonprimary\">edge_average</p>\n",
       "                                <span class=\"djtooltiptext\">the average number of edges</span>\n",
       "                            </div></th><th><div class=\"djtooltip\">\n",
       "                                <p id=\"nonprimary\">edge_deviation</p>\n",
       "                                <span class=\"djtooltiptext\">the deviation of the edge sizes</span>\n",
       "                            </div> </th> </tr> </thead>\n",
       "                <tbody> <tr> <td>30308334</td>\n",
       "<td>power_law</td>\n",
       "<td>280</td>\n",
       "<td>nan</td>\n",
       "<td>None</td>\n",
       "<td>2.4</td>\n",
       "<td>nan</td>\n",
       "<td>1072.9</td>\n",
       "<td>77.43829801848696</td></tr><tr><td>43532995</td>\n",
       "<td>power_law</td>\n",
       "<td>280</td>\n",
       "<td>nan</td>\n",
       "<td>None</td>\n",
       "<td>2.6</td>\n",
       "<td>nan</td>\n",
       "<td>988.5</td>\n",
       "<td>55.6205897128033</td></tr><tr><td>47052275</td>\n",
       "<td>power_law</td>\n",
       "<td>280</td>\n",
       "<td>nan</td>\n",
       "<td>None</td>\n",
       "<td>2.7</td>\n",
       "<td>nan</td>\n",
       "<td>924.9</td>\n",
       "<td>41.387075277192515</td></tr><tr><td>84965756</td>\n",
       "<td>power_law</td>\n",
       "<td>280</td>\n",
       "<td>nan</td>\n",
       "<td>None</td>\n",
       "<td>2.5</td>\n",
       "<td>nan</td>\n",
       "<td>1036.3</td>\n",
       "<td>82.65839340321104</td> </tr> </tbody>\n",
       "            </table>\n",
       "            \n",
       "            <p>Total: 4</p></div>\n",
       "            "
      ],
      "text/plain": [
       "*graph_hash    graph_name     n       p       m        alpha     p2      edge_average   edge_deviation\n",
       "+------------+ +------------+ +-----+ +-----+ +------+ +-------+ +-----+ +------------+ +------------+\n",
       "30308334       power_law      280     nan     None     2.4       nan     1072.9         77.43829801848\n",
       "43532995       power_law      280     nan     None     2.6       nan     988.5          55.62058971280\n",
       "47052275       power_law      280     nan     None     2.7       nan     924.9          41.38707527719\n",
       "84965756       power_law      280     nan     None     2.5       nan     1036.3         82.65839340321\n",
       " (Total: 4)"
      ]
     },
     "execution_count": 3,
     "metadata": {},
     "output_type": "execute_result"
    }
   ],
   "source": [
    "search_dict = [\n",
    "    \"n=280\",\n",
    "    \"edge_average>900\",\n",
    "    \"edge_average<1100\"\n",
    "]\n",
    "\n",
    "total_search = \" AND \".join(search_dict)\n",
    "print(total_search)\n",
    "\n",
    "current_table = (m65.NullModelParameters() & total_search)\n",
    "current_table"
   ]
  },
  {
   "cell_type": "code",
   "execution_count": 4,
   "metadata": {},
   "outputs": [],
   "source": [
    "important_models = set([\"VD_mutation\",\n",
    "                   \"VD_complement\",\n",
    "                   \"VD_basic\",\n",
    "                   \"LPA_random\",\n",
    "                   \"LPA_wheel\",\n",
    "                   \"small_world\",\n",
    "                   \"power_law\",\n",
    "                   \"erdos_renyi\"])"
   ]
  },
  {
   "cell_type": "code",
   "execution_count": 5,
   "metadata": {},
   "outputs": [],
   "source": [
    "def check_models_match(graph_names,important_models):\n",
    "    graph_names = set(graph_names)\n",
    "    important_models = set(important_models)\n",
    "    subgroup_models = important_models.intersection(set(dict(Counter(graph_names)).keys()))\n",
    "    if len(important_models) > len(subgroup_models):\n",
    "        return False\n",
    "    else:\n",
    "        return True"
   ]
  },
  {
   "cell_type": "code",
   "execution_count": 6,
   "metadata": {},
   "outputs": [
    {
     "data": {
      "text/plain": [
       "False"
      ]
     },
     "execution_count": 6,
     "metadata": {},
     "output_type": "execute_result"
    }
   ],
   "source": [
    "from collections import Counter\n",
    "\n",
    "graph_names = (current_table).fetch(\"graph_name\")\n",
    "check_models_match(graph_names,important_models)"
   ]
  },
  {
   "cell_type": "code",
   "execution_count": 7,
   "metadata": {},
   "outputs": [],
   "source": [
    "\"\"\"\n",
    "Computes the viable n that is valid for all model\n",
    "\"\"\"\n",
    "from collections import Counter\n",
    "\n",
    "n_options = m65.NullModelParameters().fetch(\"n\")\n",
    "unique_n = np.unique(n_options)\n",
    "# get the most viable node option\n",
    "all_model_names = np.unique(m65.NullModelParameters().fetch(\"graph_name\"))\n",
    "viable_n = []\n",
    "\n",
    "for n in unique_n:\n",
    "    models_for_n = np.unique((m65.NullModelParameters & \"n=\" + str(n)).fetch(\"graph_name\"))\n",
    "    if check_models_match(models_for_n,all_model_names):\n",
    "        viable_n.append(n)\n",
    "    "
   ]
  },
  {
   "cell_type": "code",
   "execution_count": 8,
   "metadata": {},
   "outputs": [
    {
     "data": {
      "text/plain": [
       "[40, 80, 120, 160, 200, 240, 280, 320, 360, 400, 440, 480, 520]"
      ]
     },
     "execution_count": 8,
     "metadata": {},
     "output_type": "execute_result"
    }
   ],
   "source": [
    "viable_n"
   ]
  },
  {
   "cell_type": "code",
   "execution_count": null,
   "metadata": {},
   "outputs": [],
   "source": [
    "np.arange(200,1000,50)"
   ]
  },
  {
   "cell_type": "code",
   "execution_count": null,
   "metadata": {},
   "outputs": [],
   "source": [
    "\"\"\"\n",
    "Pseduocode for coming up with testable windows\n",
    "For each viable n\n",
    "1) Find the max_edge_numb and min_edge_numb for each of the viable n's\n",
    "2) Start loop that looks for all graphs: Start the window from min_edge_numb to min_edge_numb + window_size\n",
    "- Check the graph types in that window size\n",
    "- if have all of the important graphs then save in list (n, n_edge_min, n_edge_max, Counter of types) and print out\n",
    "- go onto next window until reach the max_edge_number\n",
    "Go to next viable n\n",
    "\n",
    "\"\"\"\n",
    "\n",
    "important_models = set([\n",
    "    \"VD_mutation\",\n",
    "                   #\"VD_complement\",\n",
    "                   \"VD_basic\",\n",
    "                   \"LPA_random\",\n",
    "                   \"LPA_wheel\",\n",
    "                   \"small_world\",\n",
    "                   \"power_law\",\n",
    "                   #\"erdos_renyi\"\n",
    "                       ])\n",
    "\n",
    "\n",
    "total_window_sizes = np.arange(50,1001,50)\n",
    "\n",
    "window_size_successes = dict([(n,[]) for n in viable_n])\n",
    "for window_size in total_window_sizes:\n",
    "    print(f\"\\n\\n ---- Working on window_size = {window_size}----------\")\n",
    "\n",
    "    window_jump = 50\n",
    "\n",
    "    saved_node_edge_windows = []\n",
    "\n",
    "    \n",
    "    for n in viable_n:\n",
    "        longest_graph_names = []\n",
    "        local_success_counter = 0\n",
    "        edge_numbers = models_for_n = np.unique((m65.NullModelParameters & \"n=\" + str(n)).fetch(\"edge_average\"))\n",
    "        min_edge_numb,max_edge_numb = np.min(edge_numbers),np.max(edge_numbers)\n",
    "        print(f\"For {n} nodes: min_edge_numb = {min_edge_numb}, max_edge_len = {max_edge_numb} \")\n",
    "\n",
    "        current_window = np.array([min_edge_numb, min_edge_numb + window_size])\n",
    "\n",
    "        break_window_iterator = True\n",
    "        while break_window_iterator:\n",
    "            #pull down the graph types associated with that edge number\n",
    "            search_dict = [\n",
    "                f\"n={n}\",\n",
    "                f\"edge_average>={current_window[0]}\",\n",
    "                f\"edge_average<={current_window[1]}\"\n",
    "            ]\n",
    "\n",
    "            total_search = \" AND \".join(search_dict)\n",
    "            current_table = (m65.NullModelParameters() & total_search)\n",
    "\n",
    "\n",
    "\n",
    "            graph_names = (current_table).fetch(\"graph_name\")\n",
    "            unique_graph_names = np.unique(graph_names)\n",
    "            \n",
    "            if len(longest_graph_names) < len(unique_graph_names):\n",
    "                longest_graph_names = unique_graph_names\n",
    "            if check_models_match(graph_names,important_models):\n",
    "                active_node_edge_window = dict(\n",
    "                                        n_nodes=n,\n",
    "                                        edge_min=current_window[0],\n",
    "                                        edge_max=current_window[1],\n",
    "                                        n_graph_types = len(dict(Counter(graph_names)).keys()),\n",
    "                                        graph_types = Counter(graph_names)\n",
    "                                        )\n",
    "                saved_node_edge_windows.append(active_node_edge_window)\n",
    "                print(f\"-->Yay!! Found viable parameter_windw = {active_node_edge_window}\")\n",
    "\n",
    "                window_size_successes[n] = window_size_successes[n] + [window_size]\n",
    "\n",
    "            if current_window[1] >= max_edge_numb:\n",
    "                #print(\"               Top of window has exceeded max_edge_number\")\n",
    "                break_window_iterator = False\n",
    "                break\n",
    "            else:\n",
    "                current_window += current_window + window_jump\n",
    "        print(f\"                          Longest graph names list = {longest_graph_names}\")\n",
    "        print(f\"                          Missing graph = {set(important_models).difference(set(longest_graph_names))}\")"
   ]
  },
  {
   "cell_type": "code",
   "execution_count": null,
   "metadata": {},
   "outputs": [],
   "source": [
    "viable_n"
   ]
  },
  {
   "cell_type": "code",
   "execution_count": null,
   "metadata": {},
   "outputs": [],
   "source": [
    "min_window_success = dict([(n,np.min(window_size_successes[n])) for n in window_size_successes.keys()])\n",
    "min_window_success"
   ]
  },
  {
   "cell_type": "markdown",
   "metadata": {},
   "source": [
    "# Getting the actual variable ones to test over"
   ]
  },
  {
   "cell_type": "code",
   "execution_count": 9,
   "metadata": {},
   "outputs": [],
   "source": [
    "min_window_success = {40: 50,\n",
    " 80: 150,\n",
    " 120: 50,\n",
    " 160: 100,\n",
    " 200: 150,\n",
    " 240: 150,\n",
    " 280: 250,\n",
    " 320: 200,\n",
    " 360: 200,\n",
    " 400: 200,\n",
    " 440: 250,\n",
    " 480: 250,\n",
    " 520: 300}"
   ]
  },
  {
   "cell_type": "code",
   "execution_count": 17,
   "metadata": {
    "collapsed": true,
    "jupyter": {
     "outputs_hidden": true
    }
   },
   "outputs": [
    {
     "name": "stdout",
     "output_type": "stream",
     "text": [
      "\n",
      "\n",
      " ---- Working on n_nodes = 40, window_size = 50----------\n"
     ]
    },
    {
     "name": "stderr",
     "output_type": "stream",
     "text": [
      "/usr/local/lib/python3.6/dist-packages/datajoint/connection.py:215: UserWarning: MySQL server has gone away. Reconnecting to the server.\n",
      "  warnings.warn(\"MySQL server has gone away. Reconnecting to the server.\")\n"
     ]
    },
    {
     "name": "stdout",
     "output_type": "stream",
     "text": [
      "For 40 nodes: min_edge_numb = 26.8, max_edge_len = 600.0 \n",
      "-->Yay!! Found viable parameter_windw = {'n_nodes': 40, 'edge_min': 103.6, 'edge_max': 203.6, 'n_graph_types': 9, 'graph_types': Counter({'power_law': 10, 'VD_mutation': 6, 'small_world': 4, 'VD_complement': 2, 'random_uniform': 1, 'LPA_random': 1, 'erdos_renyi': 1, 'VD_basic': 1, 'LPA_wheel': 1})}\n",
      "\n",
      "\n",
      " ---- Working on n_nodes = 80, window_size = 150----------\n",
      "For 80 nodes: min_edge_numb = 52.6, max_edge_len = 2212.0 \n",
      "-->Yay!! Found viable parameter_windw = {'n_nodes': 80, 'edge_min': 155.2, 'edge_max': 455.2, 'n_graph_types': 9, 'graph_types': Counter({'power_law': 14, 'VD_mutation': 8, 'VD_complement': 6, 'small_world': 4, 'VD_basic': 2, 'LPA_random': 2, 'erdos_renyi': 2, 'LPA_wheel': 1, 'random_uniform': 1})}\n",
      "\n",
      "\n",
      " ---- Working on n_nodes = 120, window_size = 50----------\n",
      "For 120 nodes: min_edge_numb = 80.9, max_edge_len = 4998.0 \n",
      "-->Yay!! Found viable parameter_windw = {'n_nodes': 120, 'edge_min': 473.6, 'edge_max': 673.6, 'n_graph_types': 9, 'graph_types': Counter({'small_world': 4, 'VD_complement': 4, 'LPA_random': 2, 'power_law': 2, 'VD_mutation': 1, 'LPA_wheel': 1, 'VD_basic': 1, 'erdos_renyi': 1, 'random_uniform': 1})}\n",
      "\n",
      "\n",
      " ---- Working on n_nodes = 160, window_size = 100----------\n",
      "For 160 nodes: min_edge_numb = 105.2, max_edge_len = 8904.0 \n",
      "-->Yay!! Found viable parameter_windw = {'n_nodes': 160, 'edge_min': 570.8, 'edge_max': 970.8, 'n_graph_types': 9, 'graph_types': Counter({'VD_complement': 4, 'small_world': 4, 'power_law': 4, 'VD_mutation': 3, 'LPA_random': 2, 'LPA_wheel': 1, 'erdos_renyi': 1, 'random_uniform': 1, 'VD_basic': 1})}\n",
      "\n",
      "\n",
      " ---- Working on n_nodes = 200, window_size = 150----------\n",
      "For 200 nodes: min_edge_numb = 132.6, max_edge_len = 13930.0 \n",
      "-->Yay!! Found viable parameter_windw = {'n_nodes': 200, 'edge_min': 680.4, 'edge_max': 1280.4, 'n_graph_types': 9, 'graph_types': Counter({'power_law': 6, 'small_world': 4, 'VD_complement': 4, 'VD_mutation': 3, 'LPA_random': 2, 'random_uniform': 1, 'erdos_renyi': 1, 'LPA_wheel': 1, 'VD_basic': 1})}\n",
      "\n",
      "\n",
      " ---- Working on n_nodes = 240, window_size = 150----------\n",
      "For 240 nodes: min_edge_numb = 160.4, max_edge_len = 20076.0 \n",
      "-->Yay!! Found viable parameter_windw = {'n_nodes': 240, 'edge_min': 791.6, 'edge_max': 1391.6, 'n_graph_types': 9, 'graph_types': Counter({'power_law': 6, 'small_world': 4, 'VD_mutation': 3, 'LPA_random': 2, 'VD_complement': 1, 'VD_basic': 1, 'erdos_renyi': 1, 'LPA_wheel': 1, 'random_uniform': 1})}\n",
      "\n",
      "\n",
      " ---- Working on n_nodes = 280, window_size = 250----------\n",
      "For 280 nodes: min_edge_numb = 185.2, max_edge_len = 27342.0 \n",
      "-->Yay!! Found viable parameter_windw = {'n_nodes': 280, 'edge_min': 890.8, 'edge_max': 1890.8, 'n_graph_types': 9, 'graph_types': Counter({'power_law': 7, 'VD_mutation': 5, 'small_world': 4, 'LPA_random': 2, 'VD_complement': 2, 'erdos_renyi': 1, 'random_uniform': 1, 'VD_basic': 1, 'LPA_wheel': 1})}\n",
      "\n",
      "\n",
      " ---- Working on n_nodes = 320, window_size = 200----------\n",
      "For 320 nodes: min_edge_numb = 210.3, max_edge_len = 35728.0 \n",
      "-->Yay!! Found viable parameter_windw = {'n_nodes': 320, 'edge_min': 991.2, 'edge_max': 1791.2, 'n_graph_types': 8, 'graph_types': Counter({'power_law': 8, 'small_world': 4, 'VD_mutation': 4, 'LPA_random': 2, 'random_uniform': 1, 'LPA_wheel': 1, 'VD_basic': 1, 'erdos_renyi': 1})}\n",
      "\n",
      "\n",
      " ---- Working on n_nodes = 360, window_size = 200----------\n",
      "For 360 nodes: min_edge_numb = 241.6, max_edge_len = 45234.0 \n",
      "-->Yay!! Found viable parameter_windw = {'n_nodes': 360, 'edge_min': 1116.4, 'edge_max': 1916.4, 'n_graph_types': 8, 'graph_types': Counter({'power_law': 8, 'VD_mutation': 4, 'small_world': 4, 'LPA_random': 2, 'random_uniform': 1, 'LPA_wheel': 1, 'erdos_renyi': 1, 'VD_basic': 1})}\n",
      "\n",
      "\n",
      " ---- Working on n_nodes = 400, window_size = 200----------\n",
      "For 400 nodes: min_edge_numb = 267.0, max_edge_len = 55860.0 \n",
      "-->Yay!! Found viable parameter_windw = {'n_nodes': 400, 'edge_min': 1218.0, 'edge_max': 2018.0, 'n_graph_types': 8, 'graph_types': Counter({'power_law': 7, 'small_world': 4, 'VD_mutation': 3, 'LPA_random': 2, 'VD_basic': 1, 'LPA_wheel': 1, 'random_uniform': 1, 'erdos_renyi': 1})}\n",
      "\n",
      "\n",
      " ---- Working on n_nodes = 440, window_size = 250----------\n",
      "For 440 nodes: min_edge_numb = 291.2, max_edge_len = 67606.0 \n",
      "-->Yay!! Found viable parameter_windw = {'n_nodes': 440, 'edge_min': 1314.8, 'edge_max': 2314.8, 'n_graph_types': 8, 'graph_types': Counter({'power_law': 8, 'small_world': 4, 'VD_mutation': 4, 'LPA_random': 2, 'LPA_wheel': 1, 'VD_basic': 1, 'random_uniform': 1, 'erdos_renyi': 1})}\n",
      "\n",
      "\n",
      " ---- Working on n_nodes = 480, window_size = 250----------\n",
      "For 480 nodes: min_edge_numb = 315.9, max_edge_len = 80472.0 \n",
      "-->Yay!! Found viable parameter_windw = {'n_nodes': 480, 'edge_min': 1413.6, 'edge_max': 2413.6, 'n_graph_types': 8, 'graph_types': Counter({'power_law': 8, 'small_world': 4, 'VD_mutation': 3, 'LPA_random': 2, 'erdos_renyi': 1, 'LPA_wheel': 1, 'VD_basic': 1, 'random_uniform': 1})}\n",
      "\n",
      "\n",
      " ---- Working on n_nodes = 520, window_size = 300----------\n",
      "For 520 nodes: min_edge_numb = 345.5, max_edge_len = 94458.0 \n",
      "-->Yay!! Found viable parameter_windw = {'n_nodes': 520, 'edge_min': 1532.0, 'edge_max': 2732.0, 'n_graph_types': 8, 'graph_types': Counter({'power_law': 9, 'small_world': 4, 'VD_mutation': 4, 'LPA_random': 2, 'VD_basic': 1, 'LPA_wheel': 1, 'erdos_renyi': 1, 'random_uniform': 1})}\n"
     ]
    }
   ],
   "source": [
    "important_models = set([\n",
    "    \"VD_mutation\",\n",
    "                   #\"VD_complement\",\n",
    "                   \"VD_basic\",\n",
    "                   \"LPA_random\",\n",
    "                   \"LPA_wheel\",\n",
    "                   \"small_world\",\n",
    "                   \"power_law\",\n",
    "                   \"erdos_renyi\"\n",
    "                       ])\n",
    "\n",
    "saved_node_edge_windows = []\n",
    "for n,window_size in min_window_success.items():\n",
    "    print(f\"\\n\\n ---- Working on n_nodes = {n}, window_size = {window_size}----------\")\n",
    "\n",
    "    window_jump = 50\n",
    "\n",
    "    longest_graph_names = []\n",
    "    local_success_counter = 0\n",
    "    edge_numbers = models_for_n = np.unique((m65.NullModelParameters & \"n=\" + str(n)).fetch(\"edge_average\"))\n",
    "    min_edge_numb,max_edge_numb = np.min(edge_numbers),np.max(edge_numbers)\n",
    "    print(f\"For {n} nodes: min_edge_numb = {min_edge_numb}, max_edge_len = {max_edge_numb} \")\n",
    "\n",
    "    current_window = np.array([min_edge_numb, min_edge_numb + window_size])\n",
    "\n",
    "    break_window_iterator = True\n",
    "    while break_window_iterator:\n",
    "        #pull down the graph types associated with that edge number\n",
    "        search_dict = [\n",
    "            f\"n={n}\",\n",
    "            f\"edge_average>={current_window[0]}\",\n",
    "            f\"edge_average<={current_window[1]}\"\n",
    "        ]\n",
    "\n",
    "        total_search = \" AND \".join(search_dict)\n",
    "        current_table = (m65.NullModelParameters() & total_search)\n",
    "\n",
    "\n",
    "\n",
    "        graph_names = (current_table).fetch(\"graph_name\")\n",
    "        unique_graph_names = np.unique(graph_names)\n",
    "\n",
    "        if len(longest_graph_names) < len(unique_graph_names):\n",
    "            longest_graph_names = unique_graph_names\n",
    "        if check_models_match(graph_names,important_models):\n",
    "            active_node_edge_window = dict(\n",
    "                                    n_nodes=n,\n",
    "                                    edge_min=current_window[0],\n",
    "                                    edge_max=current_window[1],\n",
    "                                    n_graph_types = len(dict(Counter(graph_names)).keys()),\n",
    "                                    graph_types = Counter(graph_names)\n",
    "                                    )\n",
    "            saved_node_edge_windows.append(active_node_edge_window)\n",
    "            print(f\"-->Yay!! Found viable parameter_windw = {active_node_edge_window}\")\n",
    "\n",
    "        if current_window[1] >= max_edge_numb:\n",
    "            #print(\"               Top of window has exceeded max_edge_number\")\n",
    "            break_window_iterator = False\n",
    "            break\n",
    "        else:\n",
    "            current_window += current_window + window_jump\n",
    "    "
   ]
  },
  {
   "cell_type": "code",
   "execution_count": null,
   "metadata": {},
   "outputs": [],
   "source": []
  },
  {
   "cell_type": "code",
   "execution_count": 14,
   "metadata": {},
   "outputs": [
    {
     "data": {
      "text/plain": [
       "[(40, 153.6),\n",
       " (80, 305.2),\n",
       " (120, 573.6),\n",
       " (160, 770.8),\n",
       " (200, 980.4000000000001),\n",
       " (240, 1091.6),\n",
       " (280, 1390.8),\n",
       " (320, 1391.2),\n",
       " (360, 1516.4),\n",
       " (400, 1618.0),\n",
       " (440, 1814.8000000000002),\n",
       " (480, 1913.6),\n",
       " (520, 2132.0)]"
      ]
     },
     "execution_count": 14,
     "metadata": {},
     "output_type": "execute_result"
    }
   ],
   "source": [
    "# node_edge_pair = [(k['n_nodes'],np.mean([k['edge_min'],k['edge_max']])) for k in saved_node_edge_windows]\n",
    "# node_edge_pair"
   ]
  },
  {
   "cell_type": "markdown",
   "metadata": {},
   "source": [
    "# The Missing Erdos Renyi Models (which required really low p) were accomplished in NullModelParameters_Known"
   ]
  },
  {
   "cell_type": "code",
   "execution_count": 18,
   "metadata": {},
   "outputs": [],
   "source": [
    "np.savez(\"Viable_node_edge_restrictions.npz\",saved_node_edge_windows=saved_node_edge_windows)"
   ]
  },
  {
   "cell_type": "code",
   "execution_count": null,
   "metadata": {},
   "outputs": [],
   "source": []
  }
 ],
 "metadata": {
  "kernelspec": {
   "display_name": "Python 3",
   "language": "python",
   "name": "python3"
  },
  "language_info": {
   "codemirror_mode": {
    "name": "ipython",
    "version": 3
   },
   "file_extension": ".py",
   "mimetype": "text/x-python",
   "name": "python",
   "nbconvert_exporter": "python",
   "pygments_lexer": "ipython3",
   "version": "3.6.8"
  }
 },
 "nbformat": 4,
 "nbformat_minor": 4
}
