{
 "cells": [
  {
   "cell_type": "code",
   "execution_count": 25,
   "metadata": {},
   "outputs": [],
   "source": [
    "%matplotlib widget"
   ]
  },
  {
   "cell_type": "code",
   "execution_count": 26,
   "metadata": {},
   "outputs": [],
   "source": [
    "import numpy as np\n",
    "import matplotlib.pyplot as plt\n",
    "import networkx as nx"
   ]
  },
  {
   "cell_type": "code",
   "execution_count": 27,
   "metadata": {},
   "outputs": [
    {
     "data": {
      "text/plain": [
       "'# How to rewire the graph with a certain probability:\\nfor j in range(1, k // 2+1): # outer loop is neighbors\\n    targets = nodes[j:] + nodes[0:j] # first j nodes are now last in list\\n    # inner loop in node order\\n    for u,v in zip(nodes,targets):\\n        if random.random() < p:\\n            w = random.choice(nodes)\\n            # Enforce no self-loops or multiple edges\\n            while w == u or G.has_edge(u, w):\\n                w = random.choice(nodes)\\n                if G.degree(u) >= n-1:\\n                    break # skip this rewiring\\n            else:\\n                G.remove_edge(u,v)\\n                G.add_edge(u,w)\\nreturn G'"
      ]
     },
     "execution_count": 27,
     "metadata": {},
     "output_type": "execute_result"
    }
   ],
   "source": [
    "\"\"\"\n",
    "Algorithm for generating small world:\n",
    "1) Randomly position the nodes in a network\n",
    "2) Connect the nodes to the k closest other nodes\n",
    "3) Then reshuffle the edge connections like in regular\n",
    "\n",
    "\n",
    "\"\"\"\n",
    "\n",
    "\"\"\"# How to rewire the graph with a certain probability:\n",
    "for j in range(1, k // 2+1): # outer loop is neighbors\n",
    "    targets = nodes[j:] + nodes[0:j] # first j nodes are now last in list\n",
    "    # inner loop in node order\n",
    "    for u,v in zip(nodes,targets):\n",
    "        if random.random() < p:\n",
    "            w = random.choice(nodes)\n",
    "            # Enforce no self-loops or multiple edges\n",
    "            while w == u or G.has_edge(u, w):\n",
    "                w = random.choice(nodes)\n",
    "                if G.degree(u) >= n-1:\n",
    "                    break # skip this rewiring\n",
    "            else:\n",
    "                G.remove_edge(u,v)\n",
    "                G.add_edge(u,w)\n",
    "return G\"\"\""
   ]
  },
  {
   "cell_type": "code",
   "execution_count": 28,
   "metadata": {},
   "outputs": [],
   "source": [
    "n = 10\n",
    "k = 4\n",
    "random_locations = np.random.uniform(0,1,(n,3))\n",
    "edges_to_add = []\n",
    "for i,vert in enumerate(random_locations):\n",
    "    local_distances = np.linalg.norm(random_locations - vert,axis=1)\n",
    "    smallest_distance_indices = np.argsort(local_distances)[1:k+1]\n",
    "    edges_to_add += [(i,v) for v in smallest_distance_indices]"
   ]
  },
  {
   "cell_type": "code",
   "execution_count": 29,
   "metadata": {},
   "outputs": [],
   "source": [
    "import random\n",
    "\n",
    "def watts_strogatz_graph_smallworld_biological_old(n,k,p):\n",
    "    G = nx.Graph()\n",
    "    \n",
    "    #generate the random loations and edges\n",
    "    random_locations = np.random.uniform(0,1,(n,3))\n",
    "    total_edges_to_add = []\n",
    "    total_edges_dictionary = dict()\n",
    "    for i,vert in enumerate(random_locations):\n",
    "        local_distances = np.linalg.norm(random_locations - vert,axis=1)\n",
    "        #print(\"local_distances = \" + str(local_distances))\n",
    "        smallest_distance_indices = np.argsort(local_distances)\n",
    "        #possible_edges = [(i,v) for v in smallest_distance_indices]\n",
    "        not_already_added = [(i,v) for v in smallest_distance_indices if (v,i) not in total_edges_to_add]\n",
    "        #print(\"not_already_added = \" + str(not_already_added))\n",
    "        if len(not_already_added) <= 1:\n",
    "            print(\"No new connections available for node {i}\")\n",
    "        if len(not_already_added) <= k:\n",
    "            edges_to_add = not_already_added[1:]\n",
    "        else:\n",
    "            edges_to_add = not_already_added[1:k+1]\n",
    "        #print(\"edges_to_add = \" + str(edges_to_add))\n",
    "        total_edges_to_add += edges_to_add\n",
    "        edges_dictionary = dict([((i,v),local_distances[v]) for i,v in edges_to_add])\n",
    "        total_edges_dictionary.update(edges_dictionary)\n",
    "        \n",
    "\n",
    "    #setting the edge and node attributes\n",
    "    nodes = list(range(n))\n",
    "    G.add_nodes_from(nodes)\n",
    "    G.add_edges_from(total_edges_to_add)\n",
    "    nx.set_edge_attributes(G,  total_edges_dictionary,\"length\")\n",
    "    nx.set_node_attributes(G, dict([(j,random_locations[j,:]) \n",
    "                          for j,node in enumerate(G.nodes)]), 'locations')\n",
    "    \n",
    "    # How to rewire the graph with a certain probability:\n",
    "    for j in range(1, k // 2+1): # outer loop is neighbors\n",
    "        \n",
    "        targets = nodes[j:] + nodes[0:j] # first j nodes are now last in list\n",
    "        # inner loop in node order\n",
    "        #print(\"nodes = \" + str(nodes))\n",
    "        #print(\"targets = \" + str(targets))\n",
    "        for u,v in zip(nodes,targets):\n",
    "            if G.has_edge(u, v) or G.has_edge(v,u):\n",
    "                if random.random() < p:\n",
    "                    w = random.choice(nodes)\n",
    "                    # Enforce no self-loops or multiple edges\n",
    "                    while w == u or G.has_edge(u, w):\n",
    "                        w = random.choice(nodes)\n",
    "                        if G.degree(u) >= n-1:\n",
    "                            break # skip this rewiring\n",
    "                    else:\n",
    "                        #print(f\"Node switched form {(u,v)} to {(u,w)}\")\n",
    "                        G.remove_edge(u,v)\n",
    "                        G.add_edge(u,w)\n",
    "        \n",
    "    \n",
    "    return G\n",
    "    \n",
    "    "
   ]
  },
  {
   "cell_type": "code",
   "execution_count": 37,
   "metadata": {},
   "outputs": [],
   "source": [
    "import random\n",
    "\n",
    "def watts_strogatz_graph_smallworld_biological(n,k,p):\n",
    "    G = nx.Graph()\n",
    "    \n",
    "    #generate the random loations and edges\n",
    "    random_locations = np.random.uniform(0,1,(n,3))\n",
    "    total_edges_to_add = []\n",
    "    total_edges_dictionary = dict()\n",
    "    for i,vert in enumerate(random_locations):\n",
    "        local_distances = np.linalg.norm(random_locations - vert,axis=1)\n",
    "        #print(\"local_distances = \" + str(local_distances))\n",
    "        smallest_distance_indices = np.argsort(local_distances)\n",
    "        #possible_edges = [(i,v) for v in smallest_distance_indices]\n",
    "        not_already_added = [(i,v) for v in smallest_distance_indices if (v,i) not in total_edges_to_add]\n",
    "        #print(\"not_already_added = \" + str(not_already_added))\n",
    "        if len(not_already_added) <= 1:\n",
    "            print(\"No new connections available for node {i}\")\n",
    "        if len(not_already_added) <= k:\n",
    "            edges_to_add = not_already_added[1:]\n",
    "        else:\n",
    "            edges_to_add = not_already_added[1:k+1]\n",
    "        #print(\"edges_to_add = \" + str(edges_to_add))\n",
    "        total_edges_to_add += edges_to_add\n",
    "        edges_dictionary = dict([((i,v),local_distances[v]) for i,v in edges_to_add])\n",
    "        total_edges_dictionary.update(edges_dictionary)\n",
    "        \n",
    "\n",
    "    #setting the edge and node attributes\n",
    "    nodes = list(range(n))\n",
    "    G.add_nodes_from(nodes)\n",
    "    G.add_edges_from(total_edges_to_add)\n",
    "    nx.set_edge_attributes(G,  total_edges_dictionary,\"length\")\n",
    "    nx.set_node_attributes(G, dict([(j,random_locations[j,:]) \n",
    "                          for j,node in enumerate(G.nodes)]), 'locations')\n",
    "    \n",
    "    # How to rewire the graph with a certain probability:\n",
    "    for u,v in total_edges_to_add:\n",
    "        if G.has_edge(u, v) or G.has_edge(v,u):\n",
    "            if random.random() < p:\n",
    "                w = random.choice(nodes)\n",
    "                # Enforce no self-loops or multiple edges\n",
    "                while w == u or G.has_edge(u, w):\n",
    "                    w = random.choice(nodes)\n",
    "                    if G.degree(u) >= n-1:\n",
    "                        break # skip this rewiring\n",
    "                else:\n",
    "                    print(f\"Node switched form {(u,v)} to {(u,w)}\")\n",
    "                    G.remove_edge(u,v)\n",
    "                    G.add_edge(u,w)\n",
    "        \n",
    "    \n",
    "    return G\n",
    "    \n",
    "    "
   ]
  },
  {
   "cell_type": "code",
   "execution_count": 38,
   "metadata": {},
   "outputs": [
    {
     "name": "stdout",
     "output_type": "stream",
     "text": [
      "Color list index EDGE 0 is blank so setting  color to default of green\n"
     ]
    },
    {
     "data": {
      "application/vnd.jupyter.widget-view+json": {
       "model_id": "a429dee45bf542f7ae57c6a0eeeb84b6",
       "version_major": 2,
       "version_minor": 0
      },
      "text/plain": [
       "Canvas(toolbar=Toolbar(toolitems=[('Home', 'Reset original view', 'home', 'home'), ('Back', 'Back to previous …"
      ]
     },
     "metadata": {},
     "output_type": "display_data"
    }
   ],
   "source": [
    "import graph_experiments_utils as gu\n",
    "new_graph = watts_strogatz_graph_smallworld_biological(n=8,k=1,p=0)\n",
    "\n",
    "gu.graph_network_matplotlib(new_graph,plot_type=\"3D\",layout=\"locations\",locations=None,\n",
    "                 colors=\"locations\",\n",
    "                 default_color=\"blue\",\n",
    "                  colors_edge = None,\n",
    "                  default_color_edge = \"green\",\n",
    "                 plot_title=\"biological_plausible\",\n",
    "                 return_fig = False,\n",
    "                             node_size=64,\n",
    "                            node_label_size=20)"
   ]
  },
  {
   "cell_type": "code",
   "execution_count": 39,
   "metadata": {},
   "outputs": [
    {
     "name": "stdout",
     "output_type": "stream",
     "text": [
      "Node switched form (0, 3) to (0, 2)\n",
      "Node switched form (1, 7) to (1, 5)\n",
      "Node switched form (2, 5) to (2, 1)\n",
      "Node switched form (4, 6) to (4, 2)\n",
      "Node switched form (5, 0) to (5, 7)\n",
      "Color list index EDGE 0 is blank so setting  color to default of green\n"
     ]
    },
    {
     "data": {
      "application/vnd.jupyter.widget-view+json": {
       "model_id": "d7d6fe73079a4110ada4a16bbb6d313b",
       "version_major": 2,
       "version_minor": 0
      },
      "text/plain": [
       "Canvas(toolbar=Toolbar(toolitems=[('Home', 'Reset original view', 'home', 'home'), ('Back', 'Back to previous …"
      ]
     },
     "metadata": {},
     "output_type": "display_data"
    }
   ],
   "source": [
    "import graph_experiments_utils as gu\n",
    "new_graph = watts_strogatz_graph_smallworld_biological(n=8,k=2,p=0.4)\n",
    "\n",
    "gu.graph_network_matplotlib(new_graph,plot_type=\"3D\",layout=\"locations\",locations=None,\n",
    "                 colors=\"locations\",\n",
    "                 default_color=\"blue\",\n",
    "                  colors_edge = None,\n",
    "                  default_color_edge = \"green\",\n",
    "                 plot_title=\"biological_plausible\",\n",
    "                 return_fig = False,\n",
    "                             node_size=64,\n",
    "                            node_label_size=20)"
   ]
  },
  {
   "cell_type": "markdown",
   "metadata": {},
   "source": [
    "# Wrappers to apply properties to pre-existing functions"
   ]
  },
  {
   "cell_type": "code",
   "execution_count": null,
   "metadata": {},
   "outputs": [],
   "source": []
  }
 ],
 "metadata": {
  "kernelspec": {
   "display_name": "Python 3",
   "language": "python",
   "name": "python3"
  },
  "language_info": {
   "codemirror_mode": {
    "name": "ipython",
    "version": 3
   },
   "file_extension": ".py",
   "mimetype": "text/x-python",
   "name": "python",
   "nbconvert_exporter": "python",
   "pygments_lexer": "ipython3",
   "version": "3.6.8"
  }
 },
 "nbformat": 4,
 "nbformat_minor": 4
}
