{
 "cells": [
  {
   "cell_type": "code",
   "execution_count": 1,
   "metadata": {},
   "outputs": [
    {
     "data": {
      "text/plain": [
       "'\\nWant to set the maximum depth mode\\n'"
      ]
     },
     "execution_count": 1,
     "metadata": {},
     "output_type": "execute_result"
    }
   ],
   "source": [
    "\"\"\"\n",
    "Want to set the maximum depth mode\n",
    "\"\"\""
   ]
  },
  {
   "cell_type": "markdown",
   "metadata": {},
   "source": [
    "# How to visualize using graphviz"
   ]
  },
  {
   "cell_type": "code",
   "execution_count": 5,
   "metadata": {},
   "outputs": [],
   "source": [
    "import pandas as pd\n",
    "import numpy as np\n"
   ]
  },
  {
   "cell_type": "code",
   "execution_count": 6,
   "metadata": {},
   "outputs": [
    {
     "data": {
      "text/plain": [
       "'# how to extract column data\\ndf[[\"malic_acid\",\"alcohol\"]].to_numpy()\\n\\n#how to extract category data --> just get that column\\n\\n# how to get the labels you want: \\ndata.feature_names'"
      ]
     },
     "execution_count": 6,
     "metadata": {},
     "output_type": "execute_result"
    }
   ],
   "source": [
    "\"\"\"# how to extract column data\n",
    "df[[\"malic_acid\",\"alcohol\"]].to_numpy()\n",
    "\n",
    "#how to extract category data --> just get that column\n",
    "\n",
    "# how to get the labels you want: \n",
    "data.feature_names\"\"\""
   ]
  },
  {
   "cell_type": "code",
   "execution_count": 10,
   "metadata": {},
   "outputs": [
    {
     "name": "stdout",
     "output_type": "stream",
     "text": [
      "y = ['class_0', 'class_0', 'class_0', 'class_0', 'class_0', 'class_0', 'class_0', 'class_0', 'class_0', 'class_0', 'class_0', 'class_0', 'class_0', 'class_0', 'class_0', 'class_0', 'class_0', 'class_0', 'class_0', 'class_0', 'class_0', 'class_0', 'class_0', 'class_0', 'class_0', 'class_0', 'class_0', 'class_0', 'class_0', 'class_0', 'class_0', 'class_0', 'class_0', 'class_0', 'class_0', 'class_0', 'class_0', 'class_0', 'class_0', 'class_0', 'class_0', 'class_0', 'class_0', 'class_0', 'class_0', 'class_0', 'class_0', 'class_0', 'class_0', 'class_0', 'class_0', 'class_0', 'class_0', 'class_0', 'class_0', 'class_0', 'class_0', 'class_0', 'class_0', 'class_1', 'class_1', 'class_1', 'class_1', 'class_1', 'class_1', 'class_1', 'class_1', 'class_1', 'class_1', 'class_1', 'class_1', 'class_1', 'class_1', 'class_1', 'class_1', 'class_1', 'class_1', 'class_1', 'class_1', 'class_1', 'class_1', 'class_1', 'class_1', 'class_1', 'class_1', 'class_1', 'class_1', 'class_1', 'class_1', 'class_1', 'class_1', 'class_1', 'class_1', 'class_1', 'class_1', 'class_1', 'class_1', 'class_1', 'class_1', 'class_1', 'class_1', 'class_1', 'class_1', 'class_1', 'class_1', 'class_1', 'class_1', 'class_1', 'class_1', 'class_1', 'class_1', 'class_1', 'class_1', 'class_1', 'class_1', 'class_1', 'class_1', 'class_1', 'class_1', 'class_1', 'class_1', 'class_1', 'class_1', 'class_1', 'class_1', 'class_1', 'class_1', 'class_1', 'class_1', 'class_1', 'class_2', 'class_2', 'class_2', 'class_2', 'class_2', 'class_2', 'class_2', 'class_2', 'class_2', 'class_2', 'class_2', 'class_2', 'class_2', 'class_2', 'class_2', 'class_2', 'class_2', 'class_2', 'class_2', 'class_2', 'class_2', 'class_2', 'class_2', 'class_2', 'class_2', 'class_2', 'class_2', 'class_2', 'class_2', 'class_2', 'class_2', 'class_2', 'class_2', 'class_2', 'class_2', 'class_2', 'class_2', 'class_2', 'class_2', 'class_2', 'class_2', 'class_2', 'class_2', 'class_2', 'class_2', 'class_2', 'class_2', 'class_2']\n"
     ]
    },
    {
     "data": {
      "application/vnd.jupyter.widget-view+json": {
       "model_id": "2380a9fa61ee4c0bba109056383000df",
       "version_major": 2,
       "version_minor": 0
      },
      "text/plain": [
       "interactive(children=(Dropdown(description='crit', options=('gini', 'entropy'), value='gini'), Dropdown(descri…"
      ]
     },
     "metadata": {},
     "output_type": "display_data"
    }
   ],
   "source": [
    "\"\"\"\n",
    "Website where widget found\n",
    "\"\"\"\n",
    "\n",
    "from sklearn.tree import DecisionTreeClassifier, export_graphviz\n",
    "from sklearn import tree\n",
    "from sklearn.datasets import load_wine\n",
    "\n",
    "from IPython.display import SVG\n",
    "from graphviz import Source\n",
    "from IPython.display import display                               \n",
    "from ipywidgets import interactive\n",
    "\n",
    "# load dataset\n",
    "data = load_wine()\n",
    "# feature matrix\n",
    "X = data.data\n",
    "# target vector\n",
    "y = data.target\n",
    "# class labels\n",
    "labels = data.feature_names\n",
    "df = pd.DataFrame(X,columns=data.feature_names)\n",
    "df[\"class\"] = [\"class_\"+str(k) for k in y]\n",
    "df\n",
    "\n",
    "\"\"\"\n",
    "Starting with a dataframe and need to extract:\n",
    "X = feature data\n",
    "labels = feature column names\n",
    "class_names = the names of the categories to divide into\n",
    "\"\"\"\n",
    "labels = list(df.columns)\n",
    "category_class = \"class\"\n",
    "\n",
    "if category_class in labels:\n",
    "    labels.remove(category_class)\n",
    "    \n",
    "X = df[labels].to_numpy()\n",
    "y = df[category_class].to_list()\n",
    "y_names = list(set(y))\n",
    "\n",
    "def plot_tree(crit, split, depth, min_split,max_features, min_leaf=0.2,):\n",
    "    \"\"\"\n",
    "    Decision Tree documentation: https://scikit-learn.org/stable/modules/generated/sklearn.tree.DecisionTreeClassifier.html\n",
    "    \n",
    "    criterion = how measures quality of the split, different functions\n",
    "    splitter = the strategy to choose the split at each node\n",
    "    max_depth = max depth of tree\n",
    "    min_samples_split = the minimum number of samples required to split an internal node\n",
    "                    - if fraction: ceil(min_samples_split * n_samples)\n",
    "    min_samples_leaf = minimum number of samples required to be at a leaf node \n",
    "                    (so the split will only happne if right and left leaves meet this minimum)\n",
    "                - if franction: ceil(min_samples_leaf * n_samples\n",
    "    max_features: The number of features to consider when looking for best split\n",
    "                - can specify int (total features) of float (fraction of features)\n",
    "                - if not set then maximum number of features\n",
    "    \n",
    "    \"\"\"\n",
    "    \n",
    "    \n",
    "    estimator = DecisionTreeClassifier(random_state = 0 \n",
    "      , criterion = crit\n",
    "      , splitter = split\n",
    "      , max_depth = depth\n",
    "      , min_samples_split=min_split\n",
    "      , min_samples_leaf=min_leaf\n",
    "       ,max_features=max_features )\n",
    "    estimator.fit(X, y)\n",
    "    graph = Source(tree.export_graphviz(estimator\n",
    "      , out_file=None\n",
    "      , feature_names=labels\n",
    "      , class_names=y_names\n",
    "      , filled = True))\n",
    "   \n",
    "    display(SVG(graph.pipe(format='svg')))\n",
    "    return estimator\n",
    "\n",
    "inter=interactive(plot_tree \n",
    "   , crit = [\"gini\", \"entropy\"]\n",
    "   , split = [\"best\", \"random\"]\n",
    "    , max_features = [1,2,3,\"sqrt\",None]\n",
    "   , depth=[1,2,3,4]\n",
    "   , min_split=(0.1,1)\n",
    "   , min_leaf=(0.1,0.5,1))\n",
    "\n",
    "\n",
    "display(inter)"
   ]
  },
  {
   "cell_type": "code",
   "execution_count": null,
   "metadata": {},
   "outputs": [],
   "source": []
  }
 ],
 "metadata": {
  "kernelspec": {
   "display_name": "Python 3",
   "language": "python",
   "name": "python3"
  },
  "language_info": {
   "codemirror_mode": {
    "name": "ipython",
    "version": 3
   },
   "file_extension": ".py",
   "mimetype": "text/x-python",
   "name": "python",
   "nbconvert_exporter": "python",
   "pygments_lexer": "ipython3",
   "version": "3.6.8"
  }
 },
 "nbformat": 4,
 "nbformat_minor": 4
}
