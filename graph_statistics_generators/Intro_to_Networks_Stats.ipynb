{
 "cells": [
  {
   "cell_type": "code",
   "execution_count": null,
   "metadata": {},
   "outputs": [],
   "source": [
    "\"\"\"\n",
    "Purpose: To implement the rest of the graph stat ideas that we had from the intro to networks book\n",
    "\"\"\""
   ]
  },
  {
   "cell_type": "code",
   "execution_count": null,
   "metadata": {},
   "outputs": [],
   "source": [
    "import networkx as nx\n",
    "import matplotlib.pyplot as plt\n",
    "import numpy as np\n",
    "%matplotlib inline"
   ]
  },
  {
   "cell_type": "markdown",
   "metadata": {},
   "source": [
    "# Eigenvalues"
   ]
  },
  {
   "cell_type": "code",
   "execution_count": null,
   "metadata": {},
   "outputs": [],
   "source": [
    "import scipy\n",
    "\n",
    "def largest_adj_eigen_value(G1):\n",
    "    Adj = nx.convert_matrix.to_numpy_matrix(G1)\n",
    "    return np.real(np.max(np.linalg.eigvals(Adj)))\n",
    "\n",
    "def smallest_adj_eigen_value(G1):\n",
    "    Adj = nx.convert_matrix.to_numpy_matrix(G1)\n",
    "    return np.real(np.min(np.linalg.eigvals(Adj)))\n",
    "\n",
    "def largest_laplacian_eigen_value(G1):\n",
    "    laplacian = scipy.sparse.csr_matrix.toarray(nx.laplacian_matrix(G1))\n",
    "    return np.real(np.max(np.linalg.eigvals(laplacian)))\n",
    "\n",
    "def smallest_laplacian_eigen_value(G1):\n",
    "    laplacian = scipy.sparse.csr_matrix.toarray(nx.laplacian_matrix(G1))\n",
    "    return np.real(np.min(np.linalg.eigvals(laplacian)))\n",
    "\n",
    "def second_smallest_laplacian_eigen_value(G1):\n",
    "    laplacian = scipy.sparse.csr_matrix.toarray(nx.laplacian_matrix(G1))\n",
    "    sorted_eig_vals = np.sort(np.real(np.linalg.eigvals(laplacian)))\n",
    "    return sorted_eig_vals[1]\n",
    "\n",
    "#np.linalg.eigvals(np.array([[1,0],[0,1]]))\n",
    "G1 = nx.erdos_renyi_graph(20,0.1)\n",
    "print(largest_adj_eigen_value(G1))\n",
    "print(smallest_adj_eigen_value(G1))\n",
    "print(largest_laplacian_eigen_value(G1))\n",
    "print(smallest_laplacian_eigen_value(G1))\n",
    "print(second_smallest_laplacian_eigen_value(G1))"
   ]
  },
  {
   "cell_type": "markdown",
   "metadata": {},
   "source": [
    "# Top heavy measurement"
   ]
  },
  {
   "cell_type": "code",
   "execution_count": null,
   "metadata": {},
   "outputs": [],
   "source": [
    "from itertools import chain\n",
    "\n",
    "def top_heavy_percentage(G1,top_percentage = 0.90):\n",
    "    degree_sequence = np.array(G1.degree())[:,1]\n",
    "    ordered_nodes = np.argsort(degree_sequence)\n",
    "\n",
    "\n",
    "    index_to_start = np.ceil(len(degree_sequence)*top_percentage).astype(\"int\")\n",
    "    #print(f\"index_to_start = {index_to_start}\")\n",
    "    top_nodes_to_keep = ordered_nodes[index_to_start:]\n",
    "    #print(f\"top_nodes_to_keep = {top_nodes_to_keep}\")\n",
    "\n",
    "    nodes_nbrs = G1.adj.items()\n",
    "    top_neighbors = [set(v_nbrs) for v,v_nbrs in nodes_nbrs if v in top_nodes_to_keep]\n",
    "    top_neighbors.append(set(top_nodes_to_keep))\n",
    "\n",
    "    unique_top_neighbors = set(chain.from_iterable(top_neighbors))\n",
    "    return len(unique_top_neighbors)/len(G1)\n",
    "\n",
    "G1 = nx.erdos_renyi_graph(20,0.1)\n",
    "top_heavy_percentage(G1)"
   ]
  },
  {
   "cell_type": "markdown",
   "metadata": {},
   "source": [
    "# Critical Occupation Probability"
   ]
  },
  {
   "cell_type": "code",
   "execution_count": null,
   "metadata": {},
   "outputs": [],
   "source": [
    "def critical_occupation_probability(G1):\n",
    "    degree_sequence = np.array(G1.degree())[:,1]\n",
    "    return np.mean(degree_sequence)/(np.mean(degree_sequence)**2 - np.mean(degree_sequence))\n",
    "\n",
    "G1 = nx.erdos_renyi_graph(20,0.1)\n",
    "critical_occupation_probability(G1)"
   ]
  },
  {
   "cell_type": "markdown",
   "metadata": {},
   "source": [
    "# Triad closure on nodes of higher degree"
   ]
  },
  {
   "cell_type": "code",
   "execution_count": null,
   "metadata": {},
   "outputs": [],
   "source": [
    "\"\"\"G = nx.erdos_renyi_graph(10,0.4)\n",
    "degree_sequence = np.array(G.degree())[:,1]\n",
    "unique_degrees = np.unique(degree_sequence)\n",
    "same_or_higher_degree_env = dict([(k,np.where(degree_sequence>=k)[0]) for k in unique_degrees])\"\"\""
   ]
  },
  {
   "cell_type": "code",
   "execution_count": null,
   "metadata": {},
   "outputs": [],
   "source": [
    "def rich_club_transitivity(G):\n",
    "    \"\"\"\n",
    "    Computes the triad closure percentage between only those nodes with same or higher degree\n",
    "    \"\"\"\n",
    "    nodes_nbrs = G.adj.items()\n",
    "\n",
    "    triads = 0\n",
    "    triangles = 0\n",
    "    degree_lookup = dict(G.degree())\n",
    "\n",
    "    for v,v_nbrs in nodes_nbrs:\n",
    "        v_nbrs_degree = [vnb for vnb in v_nbrs if degree_lookup[vnb] >= degree_lookup[v]]\n",
    "        vs=set(v_nbrs_degree)-set([v]) #getting all the neighbors of the node (so when put in different combinations these could be triads)\n",
    "        local_triangles=0\n",
    "        local_triads = len(vs)*(len(vs) - 1)\n",
    "        if local_triads<1:\n",
    "            #print(\"No local triads so skipping\")\n",
    "            continue\n",
    "        for w in vs:\n",
    "            ws = set(G[w])-set([w]) #gets all the neighbors of a neighbor except itself\n",
    "            local_triangles += len(vs.intersection(ws)) #finds out how many common neighbors has between itself and main node\n",
    "\n",
    "        #print(f\"For neuron {v}: Triads = {local_triads/2}, Triangles = {local_triangles/2}, transitivity = {local_triangles/local_triads}\")\n",
    "        triads += local_triads \n",
    "        triangles+= local_triangles\n",
    "    \n",
    "    #print(f\"Total: Triads = {triads/2}, Triangles = {triangles/2}, transitivity = {triangles/triads}\")\n",
    "    if triads > 0:\n",
    "        return triangles/triads\n",
    "    else:\n",
    "        return None\n",
    "    \n",
    "G = nx.erdos_renyi_graph(10,0.4)\n",
    "rich_club_transitivity(G)"
   ]
  },
  {
   "cell_type": "markdown",
   "metadata": {},
   "source": [
    "# Rich club coefficient"
   ]
  },
  {
   "cell_type": "code",
   "execution_count": null,
   "metadata": {},
   "outputs": [],
   "source": [
    "G = nx.Graph([(0,1),(0,2),(1,2),(1,3),(1,4),(4,5)])\n",
    "nx.draw(G,with_labels=True)\n",
    "rc = nx.rich_club_coefficient(G,normalized=False)\n",
    "rc"
   ]
  },
  {
   "cell_type": "code",
   "execution_count": null,
   "metadata": {},
   "outputs": [],
   "source": [
    "\"\"\"\n",
    "Not really sure what this means\n",
    "\"\"\""
   ]
  },
  {
   "cell_type": "markdown",
   "metadata": {},
   "source": [
    "# Measure the modularity after performing clustering"
   ]
  },
  {
   "cell_type": "markdown",
   "metadata": {},
   "source": [
    "# 1 / Average path length"
   ]
  },
  {
   "cell_type": "code",
   "execution_count": null,
   "metadata": {},
   "outputs": [],
   "source": [
    "import networkx as nx\n"
   ]
  },
  {
   "cell_type": "code",
   "execution_count": null,
   "metadata": {},
   "outputs": [],
   "source": [
    "def inverse_average_shortest_path(G):\n",
    "    Gcc = sorted(nx.connected_components(G), key=len, reverse=True)\n",
    "    sp = nx.average_shortest_path_length(nx.subgraph(G,Gcc[0]))\n",
    "    if sp > 0:\n",
    "        return 1/sp\n",
    "    else:\n",
    "        return None\n",
    "    \n",
    "G = nx.erdos_renyi_graph(200,0.4)\n",
    "inverse_average_shortest_path(G)"
   ]
  },
  {
   "cell_type": "markdown",
   "metadata": {},
   "source": [
    "# Power Law Fitting Functions"
   ]
  },
  {
   "cell_type": "code",
   "execution_count": null,
   "metadata": {},
   "outputs": [],
   "source": [
    "\"\"\"\n",
    "Want to measure the goodness of fit of degree \n",
    "distribution between powerlaw and exponential\n",
    "\n",
    "\"\"\""
   ]
  },
  {
   "cell_type": "code",
   "execution_count": 4,
   "metadata": {},
   "outputs": [],
   "source": [
    "import networkx as nx\n",
    "import numpy as np\n",
    "G = nx.erdos_renyi_graph(100,0.8)"
   ]
  },
  {
   "cell_type": "code",
   "execution_count": 9,
   "metadata": {},
   "outputs": [],
   "source": [
    "import powerlaw\n",
    "\n",
    "def get_degree_distribution(G):\n",
    "    return np.array(G.degree())[:,1]\n",
    "\n",
    "def power_law_alpha_sigma(G):\n",
    "    #get the degree distribution\n",
    "    power_law_alpha_sigma.stat_names = [\"power_law_alpha\",\n",
    "                                        \"power_law_sigma\"]\n",
    "    fit = powerlaw.Fit(get_degree_distribution(G))\n",
    "    return fit.power_law.alpha, fit.power_law.sigma\n",
    "\n",
    "def power_exp_fit_ratio(G):\n",
    "    \"\"\"\n",
    "    Will return the loglikelihood ratio of the power and exponential graph\n",
    "    R:\n",
    "    Will be positive if power is more likely\n",
    "            negative    exponential\n",
    "    \n",
    "    p: significance of fit\n",
    "    \"\"\"\n",
    "    #get the degree distribution\n",
    "    power_law_alpha_sigma.stat_names = [\"power_exp_LL_ratio\",\n",
    "                                        \"power_exp_LL_ratio_sign\"]\n",
    "    \n",
    "    fit = powerlaw.Fit(get_degree_distribution(G))\n",
    "    R,p = fit.distribution_compare(\"power_law\",\n",
    "                                                 \"exponential\",\n",
    "                                                normalized_ratio=True)\n",
    "    return R,p\n",
    "\n",
    "def trunc_power_stretched_exp_fit_ratio(G):\n",
    "    \"\"\"\n",
    "    Will return the loglikelihood ratio of the power and exponential graph\n",
    "    R:\n",
    "    Will be positive if power is more likely\n",
    "            negative    exponential\n",
    "    \n",
    "    p: significance of fit\n",
    "    \"\"\"\n",
    "    #get the degree distribution\n",
    "    power_law_alpha_sigma.stat_names = [\"trunc_power_stretched_exp_LL_ratio\",\n",
    "                                        \"trunc_power_stretched_exp_LL_ratio_sign\"]\n",
    "    \n",
    "    fit = powerlaw.Fit(get_degree_distribution(G))\n",
    "    R,p = fit.distribution_compare(\"truncated_power_law\",\n",
    "                                                 \"stretched_exponential\",\n",
    "                                                normalized_ratio=True)\n",
    "    return R,pz\n",
    "    "
   ]
  },
  {
   "cell_type": "code",
   "execution_count": 6,
   "metadata": {},
   "outputs": [
    {
     "name": "stderr",
     "output_type": "stream",
     "text": [
      "Calculating best minimal value for power law fit\n"
     ]
    },
    {
     "data": {
      "text/plain": [
       "(46.463881143542956, 7.375215409225616)"
      ]
     },
     "execution_count": 6,
     "metadata": {},
     "output_type": "execute_result"
    }
   ],
   "source": [
    "power_law_alpha_sigma(G)"
   ]
  },
  {
   "cell_type": "code",
   "execution_count": 13,
   "metadata": {},
   "outputs": [
    {
     "name": "stderr",
     "output_type": "stream",
     "text": [
      "Calculating best minimal value for power law fit\n"
     ]
    },
    {
     "data": {
      "text/plain": [
       "(-0.3481321827483873, 0.7277409159108774)"
      ]
     },
     "execution_count": 13,
     "metadata": {},
     "output_type": "execute_result"
    }
   ],
   "source": [
    "power_exp_fit_ratio(G)"
   ]
  },
  {
   "cell_type": "code",
   "execution_count": 14,
   "metadata": {},
   "outputs": [
    {
     "name": "stderr",
     "output_type": "stream",
     "text": [
      "Calculating best minimal value for power law fit\n"
     ]
    },
    {
     "data": {
      "text/plain": [
       "(-0.14966877743063664, 0.8810259426615861)"
      ]
     },
     "execution_count": 14,
     "metadata": {},
     "output_type": "execute_result"
    }
   ],
   "source": [
    "trunc_power_stretched_exp_fit_ratio(G)"
   ]
  },
  {
   "cell_type": "code",
   "execution_count": 8,
   "metadata": {},
   "outputs": [
    {
     "data": {
      "text/plain": [
       "['Distribution',\n",
       " 'Distribution_Fit',\n",
       " 'Exponential',\n",
       " 'Fit',\n",
       " 'Lognormal',\n",
       " 'Lognormal_Positive',\n",
       " 'Power_Law',\n",
       " 'Stretched_Exponential',\n",
       " 'Truncated_Power_Law',\n",
       " '__builtins__',\n",
       " '__cached__',\n",
       " '__doc__',\n",
       " '__file__',\n",
       " '__loader__',\n",
       " '__name__',\n",
       " '__package__',\n",
       " '__spec__',\n",
       " '__version__',\n",
       " '__warningregistry__',\n",
       " 'bisect_map',\n",
       " 'ccdf',\n",
       " 'cdf',\n",
       " 'checkunique',\n",
       " 'cumulative_distribution_function',\n",
       " 'distribution_compare',\n",
       " 'distribution_fit',\n",
       " 'exponential_likelihoods',\n",
       " 'find_xmin',\n",
       " 'gamma_likelihoods',\n",
       " 'is_discrete',\n",
       " 'likelihood_function_generator',\n",
       " 'loglikelihood_ratio',\n",
       " 'lognormal_likelihoods',\n",
       " 'negative_binomial_likelihoods',\n",
       " 'nested_loglikelihood_ratio',\n",
       " 'pdf',\n",
       " 'plot_ccdf',\n",
       " 'plot_cdf',\n",
       " 'plot_pdf',\n",
       " 'power_law_ks_distance',\n",
       " 'power_law_likelihoods',\n",
       " 'print_function',\n",
       " 'stretched_exponential_likelihoods',\n",
       " 'sys',\n",
       " 'trim_to_range',\n",
       " 'truncated_power_law_likelihoods']"
      ]
     },
     "execution_count": 8,
     "metadata": {},
     "output_type": "execute_result"
    }
   ],
   "source": [
    "dir(powerlaw\n",
    ")"
   ]
  },
  {
   "cell_type": "code",
   "execution_count": null,
   "metadata": {},
   "outputs": [],
   "source": [
    "import powerlaw\n",
    "\n",
    "fit = powerlaw.Fit(x)\n",
    "print(fit.power_law.alpha, fit.power_law.sigma, fit.power_law.xmin)\n",
    "print(fit.distribution_compare(\"power_law\",\"exponential\"))\n",
    "f, ax = plt.subplots(figsize=(16,16))\n",
    "ax.hist(x)\n",
    "ax.set_yscale(\"log\")\n",
    "ax.set_xscale(\"log\")\n",
    "\n",
    "fit.power_law.plot_ccdf(ax = ax, color = \"blue\")\n",
    "fit.plot_ccdf(ax = ax, color = \"green\")"
   ]
  },
  {
   "cell_type": "code",
   "execution_count": null,
   "metadata": {},
   "outputs": [],
   "source": [
    "config_fit = powerlaw.Fit(total_degrees)\n",
    "print(config_fit.power_law.alpha,config_fit.power_law.sigma,config_fit.distribution_compare(\"power_law\",\"exponential\"))"
   ]
  }
 ],
 "metadata": {
  "kernelspec": {
   "display_name": "Python 3",
   "language": "python",
   "name": "python3"
  },
  "language_info": {
   "codemirror_mode": {
    "name": "ipython",
    "version": 3
   },
   "file_extension": ".py",
   "mimetype": "text/x-python",
   "name": "python",
   "nbconvert_exporter": "python",
   "pygments_lexer": "ipython3",
   "version": "3.6.8"
  }
 },
 "nbformat": 4,
 "nbformat_minor": 4
}
