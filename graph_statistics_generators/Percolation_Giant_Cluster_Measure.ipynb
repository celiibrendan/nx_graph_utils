{
 "cells": [
  {
   "cell_type": "code",
   "execution_count": null,
   "metadata": {},
   "outputs": [],
   "source": [
    "\"\"\"\n",
    "Purpose: To build an algorithm that calculates the size of the largest \n",
    "cluster after site percolation and/or bond percolation (where they are deleted from the network)\n",
    "\n",
    "\"\"\""
   ]
  },
  {
   "cell_type": "code",
   "execution_count": null,
   "metadata": {},
   "outputs": [],
   "source": [
    "\"\"\"\n",
    "Pseudocode: \n",
    "1) Start with empty network. Number of clusters, c = 0, currently in network\n",
    "Choose at random the order in which vertices will be added to the network\n",
    "\n",
    "--> if want to remove the highest degree nodes first then order in terms of increasing order of degree\n",
    "(though should randomly shuffle those with the same degree)\n",
    "\n",
    "2) Add the next vertex in list to the network initially with no edges\n",
    "- increase the cluster count by 1 (because the new vertex is initially a cluster of its own)\n",
    "- Make the cluster size of one\n",
    "3) Go through the edges attached to newly added vertex and add the edges where the other \n",
    "vertex already exists in the network\n",
    "4) For each edge added, check if the vertices have the same cluster group number:\n",
    "- if yes then do nothing\n",
    "- if no, relabel the smaller cluster the same cluster number as the bigger cluster number\n",
    "- update the sizes of the 2 clusters from which formed\n",
    "5) Repeat step 2 until all vertices are added\n",
    "\n",
    "Run these iterations many times to get an average of the S_r\n",
    "\n",
    "\"\"\""
   ]
  },
  {
   "cell_type": "code",
   "execution_count": 1,
   "metadata": {},
   "outputs": [],
   "source": [
    "import networkx as nx\n",
    "import numpy as np"
   ]
  },
  {
   "cell_type": "code",
   "execution_count": 5,
   "metadata": {},
   "outputs": [],
   "source": [
    "def _get_vertex_order(G,selection_type=\"random\"):\n",
    "    if selection_type == \"random\":\n",
    "        return np.random.permutation(list(G.nodes))\n",
    "    elif selection_type == \"degree\":\n",
    "        \"\"\" Will organize from highest to lowest degree\"\"\"\n",
    "        degree_dict = dict()\n",
    "        for k,v in G.degree():\n",
    "            if v not in degree_dict.keys():\n",
    "                degree_dict[v] = [k]\n",
    "            else:\n",
    "                degree_dict[v].append(k)\n",
    "        degree_dict\n",
    "\n",
    "        #get the order of degree\n",
    "        order_degrees = np.sort(list(degree_dict.keys()))\n",
    "\n",
    "        node_order = []\n",
    "        for k in order_degrees:\n",
    "            node_order += list(np.random.permutation(degree_dict[k]))\n",
    "\n",
    "        return node_order\n",
    "    else:\n",
    "        raise Exception(\"Invalid Selection Type\")\n",
    "    \n",
    "    \n"
   ]
  },
  {
   "cell_type": "code",
   "execution_count": 19,
   "metadata": {},
   "outputs": [],
   "source": [
    "from tqdm import tqdm\n",
    "\n",
    "def run_site_percolation(G,vertex_order_type=\"random\",n_iterations=1000):\n",
    "    total_runs = []\n",
    "\n",
    "    for y in tqdm(range(0,n_iterations)):\n",
    "        current_run_results = [0,1]\n",
    "        \"\"\"\n",
    "        1) Start with empty network. Number of clusters, c = 0, currently in network\n",
    "        Choose at random the order in which vertices will be added to the network\n",
    "        \"\"\"\n",
    "\n",
    "        clusters=dict() #starting out the clusters list as empyt\n",
    "        vertex_order = _get_vertex_order(G,vertex_order_type)\n",
    "\n",
    "\n",
    "        \"\"\"\n",
    "        2) Add the next vertex in list to the network initially with no edges\n",
    "        \"\"\"\n",
    "        vertex_labels = dict()\n",
    "        for i,v in enumerate(vertex_order):\n",
    "            #print(f\"Working on vertex {v}\")\n",
    "\n",
    "            \"\"\" 2b)\n",
    "            - increase the cluster count by 1 (because the new vertex is initially a cluster of its own)\n",
    "            - Make the cluster size of one\n",
    "\n",
    "            \"\"\"\n",
    "\n",
    "            try:\n",
    "                max_index_plus_1 = np.max(list(clusters.keys())) + 1\n",
    "                clusters[max_index_plus_1] = 1\n",
    "                vertex_labels[v] = max_index_plus_1\n",
    "            except:\n",
    "                clusters[0] = 1\n",
    "                vertex_labels[v] = 0\n",
    "                continue\n",
    "\n",
    "            \"\"\"\n",
    "            3) Go through the edges attached to newly added vertex and add the edges where the other \n",
    "            vertex already exists in the network\n",
    "\n",
    "            4) For each edge added, check if the vertices have the same cluster group number:\n",
    "            - if yes then do nothing\n",
    "            - if no, relabel the smaller cluster the same cluster number as the bigger cluster number\n",
    "            - update the sizes of the 2 clusters from which formed\n",
    "            \"\"\"\n",
    "            already_added_v = set(vertex_order[:i]).intersection(set(G[v].keys()))\n",
    "            for a_v in already_added_v:\n",
    "                if vertex_labels[a_v] != vertex_labels[v]:\n",
    "                    index_max = np.argmax([clusters[vertex_labels[a_v]],clusters[vertex_labels[v]]])\n",
    "                    if index_max == 0: #need to change all the labels with v\n",
    "                        replaced_cluster = vertex_labels[v]\n",
    "                        indexes_to_change = [jj for jj in vertex_labels.keys() if vertex_labels[jj] == vertex_labels[v]]\n",
    "                        final_cluster = vertex_labels[a_v]\n",
    "                    else:\n",
    "                        replaced_cluster = vertex_labels[a_v]\n",
    "                        indexes_to_change = [jj for jj in vertex_labels.keys() if vertex_labels[jj] == vertex_labels[a_v]]\n",
    "                        final_cluster = vertex_labels[v]\n",
    "\n",
    "                    #change the labels\n",
    "                    for vv in indexes_to_change:\n",
    "                        vertex_labels[vv] = final_cluster\n",
    "\n",
    "                    replaced_size = clusters.pop(replaced_cluster)\n",
    "                    clusters[final_cluster] += replaced_size\n",
    "\n",
    "            current_run_results.append(np.max([v for v in clusters.values()]))\n",
    "\n",
    "\n",
    "            #Done adding that vertex and will continue on to next vertex\n",
    "            #print(f\"clusters = {clusters}\")\n",
    "\n",
    "            total_runs.append(current_run_results)\n",
    "    total_runs = np.array(total_runs)\n",
    "    \n",
    "    from scipy.special import comb\n",
    "    n = len(G.nodes)\n",
    "    S_r = np.mean(total_runs,axis=0)\n",
    "    #calculate s_phi : average largest cluster size as a functin of the occupancy probability\n",
    "    phi = np.arange(0,1.05,0.05)\n",
    "    r = np.arange(0,n+1,1)\n",
    "    s_phi = [np.sum([comb(n, r_curr, exact=True)*(phi_curr**r_curr)*((1-phi_curr)**(n- r_curr))*S_r_curr\n",
    "                        for r_curr,S_r_curr in zip(r,S_r)]) for phi_curr in phi]\n",
    "    s_phi = np.array(s_phi)/n\n",
    "    \n",
    "    return s_phi,phi\n",
    "    \n",
    "    "
   ]
  },
  {
   "cell_type": "markdown",
   "metadata": {},
   "source": [
    "# Erdos-Renyi Random Percolation"
   ]
  },
  {
   "cell_type": "code",
   "execution_count": null,
   "metadata": {},
   "outputs": [],
   "source": [
    "# Start with a beginning network\n",
    "G = nx.erdos_renyi_graph(n=1000,p=0.4)\n",
    "s_phi,phi = run_site_percolation(G,\"random\",100)\n",
    "\n",
    "%matplotlib inline\n",
    "import matplotlib.pyplot as plt\n",
    "plt.plot(phi,s_phi)\n",
    "plt.xlabel(\"Node occupancy probability\")\n",
    "plt.ylabel(\"Size of largest cluster\")"
   ]
  },
  {
   "cell_type": "markdown",
   "metadata": {},
   "source": [
    "# Erdos-Renyi : Highest Degree Percolation"
   ]
  },
  {
   "cell_type": "code",
   "execution_count": null,
   "metadata": {},
   "outputs": [],
   "source": [
    "# Start with a beginning network\n",
    "G = nx.erdos_renyi_graph(n=100,p=0.4)\n",
    "s_phi_erd_deg,phi_erd_deg = run_site_percolation(G,\"degree\",1000)\n",
    "\n",
    "\n",
    "%matplotlib inline\n",
    "import matplotlib.pyplot as plt\n",
    "plt.plot(phi,s_phi,label=\"random\")\n",
    "plt.plot(phi_erd_deg,s_phi_erd_deg,label=\"degree\")\n",
    "\n",
    "plt.xlabel(\"Node occupancy probability\")\n",
    "plt.ylabel(\"Size of largest cluster\")\n",
    "plt.title(\"Erdos Renyi: Highest Degree Percolation\")\n",
    "plt.legend()"
   ]
  },
  {
   "cell_type": "markdown",
   "metadata": {},
   "source": [
    "# Small-World: Random Percolation"
   ]
  },
  {
   "cell_type": "code",
   "execution_count": null,
   "metadata": {},
   "outputs": [],
   "source": [
    "# Start with a beginning network\n",
    "# Start with a beginning network\n",
    "G = nx.random_graphs.watts_strogatz_graph(n=100,p=0.1,k=20)\n",
    "s_phi_small_random,phi_small_random= run_site_percolation(G,\"random\",1000)\n",
    "\n",
    "%matplotlib inline\n",
    "import matplotlib.pyplot as plt\n",
    "plt.plot(phi_small_random,s_phi_small_random)\n",
    "plt.xlabel(\"Node occupancy probability\")\n",
    "plt.ylabel(\"Size of largest cluster\")\n",
    "plt.title(\"Small-World: Random Percolation\")"
   ]
  },
  {
   "cell_type": "markdown",
   "metadata": {},
   "source": [
    "# Small-World: Highest Degree Percolation"
   ]
  },
  {
   "cell_type": "code",
   "execution_count": null,
   "metadata": {},
   "outputs": [],
   "source": [
    "# Start with a beginning network\n",
    "# Start with a beginning network\n",
    "G = nx.random_graphs.watts_strogatz_graph(n=100,p=0.4,k=10)\n",
    "s_phi_small_degree,phi_small_degree= run_site_percolation(G,\"degree\",1000)\n",
    "\n",
    "%matplotlib inline\n",
    "import matplotlib.pyplot as plt\n",
    "plt.plot(phi_small_random,s_phi_small_random,label=\"random\")\n",
    "plt.plot(phi_small_degree,s_phi_small_degree,label=\"degree\")\n",
    "plt.xlabel(\"Node occupancy probability\")\n",
    "plt.ylabel(\"Size of largest cluster\")\n",
    "plt.title(\"Small-World: Highest Degree Percolation\")\n",
    "plt.legend()"
   ]
  },
  {
   "cell_type": "markdown",
   "metadata": {},
   "source": [
    "# Graphing them all-together"
   ]
  },
  {
   "cell_type": "code",
   "execution_count": null,
   "metadata": {},
   "outputs": [],
   "source": [
    "%matplotlib inline\n",
    "import matplotlib.pyplot as plt\n",
    "plt.plot(phi_small_random,s_phi_small_random,label=\"small_random\")\n",
    "plt.plot(phi_small_degree,s_phi_small_degree,label=\"sma__degree\")\n",
    "plt.plot(phi,s_phi,label=\"erdo_random\")\n",
    "plt.plot(phi_erd_deg,s_phi_erd_deg,label=\"erdo_degree\")\n",
    "\n",
    "plt.xlabel(\"Node occupancy probability\")\n",
    "plt.ylabel(\"Size of largest cluster\")\n",
    "plt.title(\"Small-World: Highest Degree Percolation\")\n",
    "plt.legend()"
   ]
  },
  {
   "cell_type": "markdown",
   "metadata": {},
   "source": []
  },
  {
   "cell_type": "code",
   "execution_count": null,
   "metadata": {},
   "outputs": [],
   "source": [
    "G = nx.barabasi_albert_graph(100,3)\n",
    "s_phi_barabasi_rand,phi_barabasi_rand= run_site_percolation(G,\"random\",1000)\n",
    "s_phi_barabasi_degree,phi_barabasi_degree= run_site_percolation(G,\"degree\",1000)\n",
    "\n",
    "%matplotlib inline\n",
    "import matplotlib.pyplot as plt\n",
    "plt.plot(phi_barabasi_rand,s_phi_barabasi_rand,label=\"random\")\n",
    "plt.plot(phi_barabasi_degree,s_phi_barabasi_degree,label=\"degree\")\n",
    "plt.xlabel(\"Node occupancy probability\")\n",
    "plt.ylabel(\"Size of largest cluster\")\n",
    "plt.title(\"barabasi_albert_graph random and degree percolation\")\n",
    "plt.legend()"
   ]
  },
  {
   "cell_type": "code",
   "execution_count": null,
   "metadata": {},
   "outputs": [],
   "source": [
    "nx.draw(G)"
   ]
  },
  {
   "cell_type": "code",
   "execution_count": 12,
   "metadata": {},
   "outputs": [
    {
     "data": {
      "text/plain": [
       "20"
      ]
     },
     "execution_count": 12,
     "metadata": {},
     "output_type": "execute_result"
    }
   ],
   "source": []
  },
  {
   "cell_type": "code",
   "execution_count": 11,
   "metadata": {},
   "outputs": [
    {
     "name": "stdout",
     "output_type": "stream",
     "text": [
      "1\n"
     ]
    },
    {
     "data": {
      "text/plain": [
       "20"
      ]
     },
     "execution_count": 11,
     "metadata": {},
     "output_type": "execute_result"
    },
    {
     "data": {
      "image/png": "[encoded data removed]",
      "text/plain": [
       "<Figure size 432x288 with 1 Axes>"
      ]
     },
     "metadata": {},
     "output_type": "display_data"
    }
   ],
   "source": [
    "G = nx.barabasi_albert_graph(100,3)\n",
    "sub_G = G.subgraph(list(range(0,20)))\n",
    "print(nx.number_connected_components(sub_G))\n",
    "nx.draw(sub_G,with_labels=True)\n",
    "Gcc = sorted(nx.connected_components(sub_G), key=len, reverse=True)\n",
    "len(Gcc[0])\n",
    "#G0 = G.subgraph(Gcc[0])\n"
   ]
  },
  {
   "cell_type": "code",
   "execution_count": null,
   "metadata": {},
   "outputs": [],
   "source": []
  },
  {
   "cell_type": "markdown",
   "metadata": {},
   "source": [
    "# Using a Naive Percolation Algorithm to try the same thing to test the results"
   ]
  },
  {
   "cell_type": "code",
   "execution_count": 4,
   "metadata": {},
   "outputs": [
    {
     "data": {
      "text/plain": [
       "1"
      ]
     },
     "execution_count": 4,
     "metadata": {},
     "output_type": "execute_result"
    }
   ],
   "source": [
    "np.random.binomial(10,0.1)"
   ]
  },
  {
   "cell_type": "code",
   "execution_count": 20,
   "metadata": {},
   "outputs": [
    {
     "data": {
      "text/plain": [
       "array([0.2, 0.2, 0.2, 0.2, 0.2, 0.2, 0.2, 0.2, 0.2, 0.2, 0.2, 0.2, 0.2,\n",
       "       0.2, 0.2, 0.2, 0.2, 0.2, 0.2, 0.2, 0.2])"
      ]
     },
     "execution_count": 20,
     "metadata": {},
     "output_type": "execute_result"
    }
   ],
   "source": [
    "s_phi_naive_barabasi_rand"
   ]
  },
  {
   "cell_type": "code",
   "execution_count": 29,
   "metadata": {},
   "outputs": [
    {
     "data": {
      "text/plain": [
       "[{0, 1, 2, 3, 4, 5, 6, 7, 8, 9, 10, 11, 12, 13, 14, 15, 16, 17, 18, 19}]"
      ]
     },
     "execution_count": 29,
     "metadata": {},
     "output_type": "execute_result"
    }
   ],
   "source": [
    "sorted(nx.connected_components(sub_G), key=len, reverse=True)"
   ]
  },
  {
   "cell_type": "code",
   "execution_count": 35,
   "metadata": {},
   "outputs": [
    {
     "name": "stderr",
     "output_type": "stream",
     "text": [
      "100%|██████████| 1000/1000 [01:25<00:00, 11.76it/s]\n",
      "100%|██████████| 1000/1000 [01:26<00:00, 11.50it/s]\n",
      "100%|██████████| 1000/1000 [00:14<00:00, 67.88it/s]\n",
      "100%|██████████| 1000/1000 [00:14<00:00, 69.53it/s]\n"
     ]
    },
    {
     "data": {
      "text/plain": [
       "<matplotlib.legend.Legend at 0x7effe204e940>"
      ]
     },
     "execution_count": 35,
     "metadata": {},
     "output_type": "execute_result"
    },
    {
     "data": {
      "image/png": "[encoded data removed]",
      "text/plain": [
       "<Figure size 432x288 with 1 Axes>"
      ]
     },
     "metadata": {
      "needs_background": "light"
     },
     "output_type": "display_data"
    }
   ],
   "source": [
    "from tqdm import tqdm\n",
    "\n",
    "def largest_connected_component_size(current_graph,**kwargs):\n",
    "    Gcc = sorted(nx.connected_components(current_graph), key=len, reverse=True)\n",
    "    #print(f\"Gcc = {Gcc}\")\n",
    "    if len(Gcc) > 0:\n",
    "        #print(f\"len(Gcc[0]) = \" + str(len(Gcc[0])))\n",
    "        return len(Gcc[0])\n",
    "    else:\n",
    "        return 0\n",
    "\n",
    "#largest_connected_component_size(sub_G)\n",
    "\n",
    "def naive_site_percolation(G,vertex_order_type,n_iterations=1000):\n",
    "    \"\"\"\n",
    "    Purpose: To test whether a naive implementation matches the \n",
    "    optimized version built\n",
    "    \n",
    "    1) Get random subset of nodes using probability phi to get the number of nodes to keep\n",
    "    2) Extract the subgraph for those nodes\n",
    "    3) Find the largest component of that graph\n",
    "    4) Store that size for that phi and continue till all the phis are done\n",
    "    5) Repeat for a certain number of iterations\n",
    "    \n",
    "    \"\"\"\n",
    "    \n",
    "    n = len(G.nodes)\n",
    "    phi = np.arange(0,1.05,0.05)\n",
    "    s_phi_total = []\n",
    "    for i in tqdm(range(0,n_iterations)):\n",
    "        #get random subsetof nodes\n",
    "        s_phi_current= []\n",
    "        for phi_curr in phi:\n",
    "            #print(f\"phi_curr = \" + str(phi_curr))\n",
    "            n_nodes_to_pick = np.random.binomial(n,phi_curr)\n",
    "            #print(f\"n_nodes_to_pick = {n_nodes_to_pick}\")\n",
    "            subgraph_nodes = _get_vertex_order(G,selection_type=vertex_order_type)[:n_nodes_to_pick]\n",
    "            #print(f\"subgraph_nodes = {subgraph_nodes}\")\n",
    "            largest_component_size = largest_connected_component_size(G.subgraph(subgraph_nodes))\n",
    "            #print(f\"largest_component_size = {largest_component_size}\")\n",
    "            s_phi_current.append(largest_component_size)\n",
    "        s_phi_total.append(s_phi_current)\n",
    "    \n",
    "    #now need to average over all of the trials\n",
    "    s_phi = np.mean(s_phi_total,axis=0)\n",
    "    s_phi = np.array(s_phi)/n\n",
    "    \n",
    "    return s_phi,phi\n",
    "\n",
    "G = nx.barabasi_albert_graph(100,3)\n",
    "G = nx.erdos_renyi_graph(100,0.4)\n",
    "\n",
    "s_phi_naive_barabasi_rand, phi_naive_barabasi_rand = naive_site_percolation(G,\n",
    "                                                        vertex_order_type=\"random\",\n",
    "                                                        n_iterations = 1000)\n",
    "s_phi_naive_barabasi_degree, phi_naive_barabasi_degree = naive_site_percolation(G,\n",
    "                                                        vertex_order_type=\"degree\",\n",
    "                                                        n_iterations = 1000)\n",
    "%matplotlib inline\n",
    "import matplotlib.pyplot as plt\n",
    "plt.figure()\n",
    "plt.plot(phi_naive_barabasi_rand,s_phi_naive_barabasi_rand,label=\"random\")\n",
    "plt.plot(phi_naive_barabasi_degree,s_phi_naive_barabasi_degree,label=\"degree\")\n",
    "plt.xlabel(\"Node occupancy probability\")\n",
    "plt.ylabel(\"Proportional Size of largest cluster\")\n",
    "plt.title(\"barabasi_albert_graph random and degree percolation NAIVE ONE\")\n",
    "plt.legend()\n",
    "\n",
    "\n",
    "s_phi_barabasi_rand,phi_barabasi_rand= run_site_percolation(G,\"random\",1000)\n",
    "s_phi_barabasi_degree,phi_barabasi_degree= run_site_percolation(G,\"degree\",1000)\n",
    "\n",
    "%matplotlib inline\n",
    "import matplotlib.pyplot as plt\n",
    "plt.figure()\n",
    "plt.plot(phi_barabasi_rand,s_phi_barabasi_rand,label=\"random\")\n",
    "plt.plot(phi_barabasi_degree,s_phi_barabasi_degree,label=\"degree\")\n",
    "plt.xlabel(\"Node occupancy probability\")\n",
    "plt.ylabel(\"Proportional Size of largest cluster\")\n",
    "plt.title(\"barabasi_albert_graph random and degree percolation NOT NAIVE\")\n",
    "plt.legend()\n",
    "\n",
    "\n",
    "            \n",
    "        \n",
    "        \n",
    "    \n",
    "    "
   ]
  },
  {
   "cell_type": "code",
   "execution_count": 34,
   "metadata": {},
   "outputs": [
    {
     "data": {
      "text/plain": [
       "<matplotlib.legend.Legend at 0x7effe20cc860>"
      ]
     },
     "execution_count": 34,
     "metadata": {},
     "output_type": "execute_result"
    },
    {
     "data": {
      "image/png": "[encoded data removed]",
      "text/plain": [
       "<Figure size 432x288 with 1 Axes>"
      ]
     },
     "metadata": {
      "needs_background": "light"
     },
     "output_type": "display_data"
    }
   ],
   "source": [
    "%matplotlib inline\n",
    "import matplotlib.pyplot as plt\n",
    "plt.figure()\n",
    "plt.plot(phi_naive_barabasi_rand,s_phi_naive_barabasi_rand,label=\"random\")\n",
    "plt.plot(phi_naive_barabasi_degree,s_phi_naive_barabasi_degree,label=\"degree\")\n",
    "plt.xlabel(\"Node occupancy probability\")\n",
    "plt.ylabel(\"Proportional Size of largest cluster\")\n",
    "plt.title(\"barabasi_albert_graph random and degree percolation NAIVE ONE\")\n",
    "plt.legend()"
   ]
  },
  {
   "cell_type": "code",
   "execution_count": null,
   "metadata": {},
   "outputs": [],
   "source": [
    "\"\"\"\n",
    "Conclusion: The new algorithm works the same as the naive but also works faster\n",
    "\n",
    "\"\"\""
   ]
  },
  {
   "cell_type": "code",
   "execution_count": null,
   "metadata": {},
   "outputs": [],
   "source": []
  },
  {
   "cell_type": "code",
   "execution_count": null,
   "metadata": {},
   "outputs": [],
   "source": []
  },
  {
   "cell_type": "code",
   "execution_count": null,
   "metadata": {},
   "outputs": [],
   "source": []
  },
  {
   "cell_type": "code",
   "execution_count": null,
   "metadata": {},
   "outputs": [],
   "source": []
  }
 ],
 "metadata": {
  "kernelspec": {
   "display_name": "Python 3",
   "language": "python",
   "name": "python3"
  },
  "language_info": {
   "codemirror_mode": {
    "name": "ipython",
    "version": 3
   },
   "file_extension": ".py",
   "mimetype": "text/x-python",
   "name": "python",
   "nbconvert_exporter": "python",
   "pygments_lexer": "ipython3",
   "version": "3.6.8"
  }
 },
 "nbformat": 4,
 "nbformat_minor": 4
}
