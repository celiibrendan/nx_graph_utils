{
 "cells": [
  {
   "cell_type": "code",
   "execution_count": 1,
   "metadata": {},
   "outputs": [],
   "source": [
    "import ndlib\n",
    "%matplotlib widget"
   ]
  },
  {
   "cell_type": "code",
   "execution_count": 2,
   "metadata": {},
   "outputs": [
    {
     "data": {
      "text/plain": [
       "'\\nPurpose: See what manifold of infection looks like\\nfor different settings of beta and gamma \\nto see if can use the product to help create a cutoff\\n\\nPseduocde: \\n1) Iterate through the parameters you want for beta and gamm\\n2) Create new model and set the initial conditions\\n3) Run test and record the number of infected over that iterations\\n\\n4) Graph the manifold\\n'"
      ]
     },
     "execution_count": 2,
     "metadata": {},
     "output_type": "execute_result"
    }
   ],
   "source": [
    "\"\"\"\n",
    "Purpose: See what manifold of infection looks like\n",
    "for different settings of beta and gamma \n",
    "to see if can use the product to help create a cutoff\n",
    "\n",
    "Pseduocde: \n",
    "1) Iterate through the parameters you want for beta and gamm\n",
    "2) Create new model and set the initial conditions\n",
    "3) Run test and record the number of infected over that iterations\n",
    "\n",
    "4) Graph the manifold\n",
    "\"\"\""
   ]
  },
  {
   "cell_type": "markdown",
   "metadata": {},
   "source": [
    "# Hyperparameters to Iterate Over"
   ]
  },
  {
   "cell_type": "code",
   "execution_count": 3,
   "metadata": {},
   "outputs": [],
   "source": [
    "# import matplotlib.pyplot as plt\n",
    "# %matplotlib inline\n",
    "# x = np.arange(-5, 5, 0.1)\n",
    "# y = np.arange(-5, 5, 0.1)\n",
    "# xx, yy = np.meshgrid(x, y, sparse=False)\n",
    "# z = np.sin(xx**2 + yy**2) / (xx**2 + yy**2)\n",
    "# h = plt.contourf(x,y,z)\n",
    "# plt.show()"
   ]
  },
  {
   "cell_type": "code",
   "execution_count": 21,
   "metadata": {},
   "outputs": [],
   "source": [
    "import numpy as np\n",
    "beta_step = 0.0001\n",
    "beta_end_point = 0.001\n",
    "beta_start_point = 0\n",
    "gamma_start_point = 0.01\n",
    "gamma_end_point = 0.1\n",
    "gamma_step = 0.01\n",
    "beta_options = np.arange(beta_start_point,beta_end_point,beta_step)\n",
    "gamma_options = np.arange(gamma_start_point,gamma_end_point,gamma_step)\n",
    "\n",
    "bb, gg = np.meshgrid(beta_options, gamma_options, sparse=False)\n",
    "total_percent_affected = []"
   ]
  },
  {
   "cell_type": "markdown",
   "metadata": {},
   "source": [
    "# Running the Models"
   ]
  },
  {
   "cell_type": "code",
   "execution_count": 22,
   "metadata": {},
   "outputs": [],
   "source": [
    "import networkx as nx\n",
    "import ndlib.models.epidemics as ep\n",
    "\n",
    "# Network Definition\n",
    "graph = nx.erdos_renyi_graph(1000, 0.1)\n",
    "\n",
    "# Model Selection\n",
    "model = ep.SIRModel(graph)\n",
    "\n",
    "initial_infected_prop = 0.05\n",
    "n_time_iterations = 200"
   ]
  },
  {
   "cell_type": "code",
   "execution_count": 23,
   "metadata": {},
   "outputs": [
    {
     "name": "stderr",
     "output_type": "stream",
     "text": [
      "90it [04:11,  2.80s/it]\n"
     ]
    }
   ],
   "source": [
    "from tqdm import tqdm\n",
    "import ndlib.models.ModelConfig as mc\n",
    "\n",
    "for i,(b,g) in tqdm(enumerate(zip(bb.ravel(),gg.ravel()))):\n",
    "    #print(f\"b = {b},g={g}\")\n",
    "    # Setting up the parameters and initial settings of the model\n",
    "    #print(f\"Working on {i}\")\n",
    "    # Model Selection\n",
    "    model = ep.SIRModel(graph)\n",
    "\n",
    "    # Model Configuration\n",
    "    config = mc.Configuration()\n",
    "    config.add_model_parameter('beta', b)\n",
    "    config.add_model_parameter('gamma', g)\n",
    "    config.add_model_parameter(\"fraction_infected\", initial_infected_prop) #not setting the initial nodes that are infected but just the initial fraction\n",
    "    model.set_initial_status(config)\n",
    "    \n",
    "    # Simulation\n",
    "    iterations = model.iteration_bunch(n_time_iterations) \n",
    "    trends = model.build_trends(iterations) # builds the  dict_keys(['node_count', 'status_delta']) time series\n",
    "    n_recovered = trends[0][\"trends\"][\"node_count\"][2][-1]\n",
    "    n_infected = trends[0][\"trends\"][\"node_count\"][1][-1]\n",
    "    percent_affected = (n_recovered + n_infected)/len(graph.nodes)\n",
    "    total_percent_affected.append(percent_affected)"
   ]
  },
  {
   "cell_type": "code",
   "execution_count": 10,
   "metadata": {},
   "outputs": [],
   "source": [
    "%matplotlib widget\n",
    "import matplotlib.pyplot as plt"
   ]
  },
  {
   "cell_type": "code",
   "execution_count": 11,
   "metadata": {},
   "outputs": [
    {
     "data": {
      "application/vnd.jupyter.widget-view+json": {
       "model_id": "cc57d28dd21240f381d0318a622ac946",
       "version_major": 2,
       "version_minor": 0
      },
      "text/plain": [
       "Canvas(toolbar=Toolbar(toolitems=[('Home', 'Reset original view', 'home', 'home'), ('Back', 'Back to previous …"
      ]
     },
     "metadata": {},
     "output_type": "display_data"
    }
   ],
   "source": [
    "from mpl_toolkits import mplot3d\n",
    "def f(x, y):\n",
    "    return np.sin(np.sqrt(x ** 2 + y ** 2))\n",
    "\n",
    "x = np.linspace(-6, 6, 30)\n",
    "y = np.linspace(-6, 6, 30)\n",
    "\n",
    "X, Y = np.meshgrid(x, y)\n",
    "Z = f(X, Y)\n",
    "\n",
    "\n",
    "\n",
    "fig = plt.figure()\n",
    "ax = plt.axes(projection='3d')\n",
    "ax.contour3D(X, Y, Z, 50, cmap='binary')\n",
    "ax.set_xlabel('x')\n",
    "ax.set_ylabel('y')\n",
    "ax.set_zlabel('z');"
   ]
  },
  {
   "cell_type": "code",
   "execution_count": 14,
   "metadata": {},
   "outputs": [
    {
     "data": {
      "text/plain": [
       "(30, 30)"
      ]
     },
     "execution_count": 14,
     "metadata": {},
     "output_type": "execute_result"
    }
   ],
   "source": [
    "X.shape"
   ]
  },
  {
   "cell_type": "code",
   "execution_count": 26,
   "metadata": {},
   "outputs": [
    {
     "data": {
      "application/vnd.jupyter.widget-view+json": {
       "model_id": "3dec4f21b8b24762aece5cfff6665566",
       "version_major": 2,
       "version_minor": 0
      },
      "text/plain": [
       "Canvas(toolbar=Toolbar(toolitems=[('Home', 'Reset original view', 'home', 'home'), ('Back', 'Back to previous …"
      ]
     },
     "metadata": {},
     "output_type": "display_data"
    }
   ],
   "source": [
    "total_percent_affected\n",
    "from mpl_toolkits import mplot3d\n",
    "\n",
    "import numpy as np\n",
    "import matplotlib.pyplot as plt\n",
    "\n",
    "total_percent_affected = np.array(total_percent_affected).reshape(bb.shape)\n",
    "fig = plt.figure()\n",
    "ax = plt.axes(projection='3d')\n",
    "ax.contour3D(bb,gg, total_percent_affected, 50, cmap='binary')\n",
    "ax.set_xlabel('beta')\n",
    "ax.set_ylabel('gamma')\n",
    "ax.set_zlabel('infection percentage');\n",
    "\n"
   ]
  },
  {
   "cell_type": "code",
   "execution_count": 32,
   "metadata": {},
   "outputs": [
    {
     "data": {
      "text/plain": [
       "array([0.0e+00, 1.0e-06, 2.0e-06, 3.0e-06, 4.0e-06, 5.0e-06, 6.0e-06,\n",
       "       7.0e-06, 8.0e-06, 9.0e-06, 0.0e+00, 2.0e-06, 4.0e-06, 6.0e-06,\n",
       "       8.0e-06, 1.0e-05, 1.2e-05, 1.4e-05, 1.6e-05, 1.8e-05, 0.0e+00,\n",
       "       3.0e-06, 6.0e-06, 9.0e-06, 1.2e-05, 1.5e-05, 1.8e-05, 2.1e-05,\n",
       "       2.4e-05, 2.7e-05, 0.0e+00, 4.0e-06, 8.0e-06, 1.2e-05, 1.6e-05,\n",
       "       2.0e-05, 2.4e-05, 2.8e-05, 3.2e-05, 3.6e-05, 0.0e+00, 5.0e-06,\n",
       "       1.0e-05, 1.5e-05, 2.0e-05, 2.5e-05, 3.0e-05, 3.5e-05, 4.0e-05,\n",
       "       4.5e-05, 0.0e+00, 6.0e-06, 1.2e-05, 1.8e-05, 2.4e-05, 3.0e-05,\n",
       "       3.6e-05, 4.2e-05, 4.8e-05, 5.4e-05, 0.0e+00, 7.0e-06, 1.4e-05,\n",
       "       2.1e-05, 2.8e-05, 3.5e-05, 4.2e-05, 4.9e-05, 5.6e-05, 6.3e-05,\n",
       "       0.0e+00, 8.0e-06, 1.6e-05, 2.4e-05, 3.2e-05, 4.0e-05, 4.8e-05,\n",
       "       5.6e-05, 6.4e-05, 7.2e-05, 0.0e+00, 9.0e-06, 1.8e-05, 2.7e-05,\n",
       "       3.6e-05, 4.5e-05, 5.4e-05, 6.3e-05, 7.2e-05, 8.1e-05])"
      ]
     },
     "execution_count": 32,
     "metadata": {},
     "output_type": "execute_result"
    }
   ],
   "source": [
    "gg.ravel()*bb.ravel()"
   ]
  },
  {
   "cell_type": "code",
   "execution_count": 40,
   "metadata": {},
   "outputs": [
    {
     "data": {
      "application/vnd.jupyter.widget-view+json": {
       "model_id": "b57a38d7d1b2452ca61b22738092e2c9",
       "version_major": 2,
       "version_minor": 0
      },
      "text/plain": [
       "Canvas(toolbar=Toolbar(toolitems=[('Home', 'Reset original view', 'home', 'home'), ('Back', 'Back to previous …"
      ]
     },
     "metadata": {},
     "output_type": "display_data"
    },
    {
     "data": {
      "text/plain": [
       "(0.0, 8.1e-05)"
      ]
     },
     "execution_count": 40,
     "metadata": {},
     "output_type": "execute_result"
    }
   ],
   "source": [
    "#plot the product of each and the total percent\n",
    "plt.figure()\n",
    "plt.scatter(gg.ravel()*bb.ravel(),total_percent_affected.ravel())\n",
    "plt.title(\"Total infected vs. beta*gamma\")\n",
    "plt.xlim([np.min(gg.ravel()*bb.ravel()),np.max(gg.ravel()*bb.ravel())])"
   ]
  },
  {
   "cell_type": "code",
   "execution_count": 43,
   "metadata": {},
   "outputs": [
    {
     "data": {
      "application/vnd.jupyter.widget-view+json": {
       "model_id": "f7741b31879e4f5cbde806ca5afa2cbc",
       "version_major": 2,
       "version_minor": 0
      },
      "text/plain": [
       "Canvas(toolbar=Toolbar(toolitems=[('Home', 'Reset original view', 'home', 'home'), ('Back', 'Back to previous …"
      ]
     },
     "metadata": {},
     "output_type": "display_data"
    },
    {
     "data": {
      "text/plain": [
       "(0.0, 0.0009000000000000001)"
      ]
     },
     "execution_count": 43,
     "metadata": {},
     "output_type": "execute_result"
    }
   ],
   "source": [
    "#plot the product of each and the total percent\n",
    "plt.figure()\n",
    "plt.scatter(bb.ravel(),total_percent_affected.ravel())\n",
    "plt.title(\"Total infected vs. beta*gamma\")\n",
    "plt.xlim([np.min(bb.ravel()),np.max(bb.ravel())])"
   ]
  },
  {
   "cell_type": "code",
   "execution_count": null,
   "metadata": {},
   "outputs": [],
   "source": [
    "\"\"\"\n",
    "Conclusion: Showing that the product doesn't necessarily coorelate with higher\n",
    "total percentage \n",
    "\n",
    "Decision: Going to just fix gamma and then iterate over Beta to find minimum\n",
    "\"\"\""
   ]
  },
  {
   "cell_type": "code",
   "execution_count": null,
   "metadata": {},
   "outputs": [],
   "source": []
  },
  {
   "cell_type": "code",
   "execution_count": null,
   "metadata": {},
   "outputs": [],
   "source": []
  },
  {
   "cell_type": "code",
   "execution_count": null,
   "metadata": {},
   "outputs": [],
   "source": []
  },
  {
   "cell_type": "code",
   "execution_count": null,
   "metadata": {},
   "outputs": [],
   "source": [
    "# --------------- Practice Using One iteration of model -------------------"
   ]
  },
  {
   "cell_type": "markdown",
   "metadata": {},
   "source": [
    "# Setting up the model"
   ]
  },
  {
   "cell_type": "code",
   "execution_count": null,
   "metadata": {},
   "outputs": [],
   "source": [
    "import networkx as nx\n",
    "import ndlib.models.epidemics as ep\n",
    "\n",
    "# Network Definition\n",
    "g = nx.erdos_renyi_graph(1000, 0.1)\n",
    "\n",
    "# Model Selection\n",
    "model = ep.SIRModel(g)"
   ]
  },
  {
   "cell_type": "code",
   "execution_count": null,
   "metadata": {},
   "outputs": [],
   "source": [
    "model.get_info()"
   ]
  },
  {
   "cell_type": "code",
   "execution_count": null,
   "metadata": {},
   "outputs": [],
   "source": [
    "# Setting up the parameters and initial settings of the model\n",
    "import ndlib.models.ModelConfig as mc\n",
    "\n",
    "\"\"\"\n",
    "For the SIR model: \n",
    "\"model\": {\n",
    "    \"beta\": {\n",
    "        \"descr\": \"Infection rate\",\n",
    "        \"range\": [0, 1],\n",
    "        \"optional\": False},\n",
    "    \"gamma\": {\n",
    "        \"descr\": \"Recovery rate\",\n",
    "        \"range\": [0, 1],\n",
    "        \"optional\": False},\n",
    "    \"tp_rate\": {\n",
    "        \"descr\": \"Whether if the infection rate depends on the number of infected neighbors\",\n",
    "        \"range\": [0, 1],\n",
    "        \"optional\": True,\n",
    "        \"default\": 1\n",
    "    }\n",
    "\"\"\"\n",
    "\n",
    "# Model Configuration\n",
    "config = mc.Configuration()\n",
    "config.add_model_parameter('beta', 0.0001)\n",
    "config.add_model_parameter('gamma', 0.1)\n",
    "config.add_model_parameter(\"fraction_infected\", 0.05) #not setting the initial nodes that are infected but just the initial fraction\n",
    "model.set_initial_status(config)"
   ]
  },
  {
   "cell_type": "markdown",
   "metadata": {},
   "source": [
    "# checking to see the available models"
   ]
  },
  {
   "cell_type": "markdown",
   "metadata": {},
   "source": [
    "# Executing the Simulation:"
   ]
  },
  {
   "cell_type": "code",
   "execution_count": null,
   "metadata": {},
   "outputs": [],
   "source": [
    "# Simulation\n",
    "n_iterations = 50\n",
    "iterations = model.iteration_bunch(n_iterations) \n",
    "\"\"\"\n",
    "Iterations data structure:\n",
    "- Stores a list of all of the runs for each iteration\n",
    "- 1st item stores the initial state of all of the nodes\n",
    "- All subsequent items just store in \"status\" the nodes that changed between the previous iteration\n",
    "- in \"node_count\": stores the total node_count for each state\n",
    "- in status_delta: shows how the node_count has changed from the prevoius iteration\n",
    "\n",
    "\"\"\"\n",
    "trends = model.build_trends(iterations) # builds the  dict_keys(['node_count', 'status_delta']) time series\n",
    "\"\"\"\n",
    "Ex: \n",
    "len(trends[0][\"trends\"][\"node_count\"][0]) is 200 data points of the node count of all those at status 0\n",
    "len(trends[0][\"trends\"][\"node_count\"][1]) is 200 data points of the node count of all those at status 1\n",
    "...etc\n",
    "\n",
    "len(trends[0][\"trends\"][\"status_delta\"][2]) is 200 data points of how status 2 node count changed between runs\n",
    "\n",
    "\"\"\"\n",
    "\n",
    "n_recovered = trends[0][\"trends\"][\"node_count\"][2][-1]\n",
    "n_infected = trends[0][\"trends\"][\"node_count\"][1][-1]\n",
    "percent_affected = (n_recovered + n_infected)/len(g.nodes)\n",
    "percent_affected"
   ]
  },
  {
   "cell_type": "markdown",
   "metadata": {},
   "source": [
    "# Testing to See if there was more than 90 nodes affected"
   ]
  },
  {
   "cell_type": "markdown",
   "metadata": {},
   "source": [
    "# Visualizing the Results"
   ]
  },
  {
   "cell_type": "code",
   "execution_count": null,
   "metadata": {},
   "outputs": [],
   "source": [
    "from bokeh.io import output_notebook, show\n",
    "from ndlib.viz.bokeh.DiffusionTrend import DiffusionTrend\n",
    "\n",
    "output_notebook()\n",
    "\n",
    "viz = DiffusionTrend(model, trends)\n",
    "p = viz.plot(width=400, height=400)\n",
    "show(p)"
   ]
  },
  {
   "cell_type": "code",
   "execution_count": null,
   "metadata": {},
   "outputs": [],
   "source": [
    "from ndlib.viz.bokeh.DiffusionPrevalence import DiffusionPrevalence\n",
    "\n",
    "viz2 = DiffusionPrevalence(model, trends)\n",
    "p2 = viz2.plot(width=400, height=400)\n",
    "show(p2)"
   ]
  },
  {
   "cell_type": "code",
   "execution_count": null,
   "metadata": {},
   "outputs": [],
   "source": []
  }
 ],
 "metadata": {
  "kernelspec": {
   "display_name": "Python 3",
   "language": "python",
   "name": "python3"
  },
  "language_info": {
   "codemirror_mode": {
    "name": "ipython",
    "version": 3
   },
   "file_extension": ".py",
   "mimetype": "text/x-python",
   "name": "python",
   "nbconvert_exporter": "python",
   "pygments_lexer": "ipython3",
   "version": "3.6.8"
  }
 },
 "nbformat": 4,
 "nbformat_minor": 4
}
