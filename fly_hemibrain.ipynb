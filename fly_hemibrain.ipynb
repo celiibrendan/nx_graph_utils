{
 "cells": [
  {
   "cell_type": "markdown",
   "metadata": {},
   "source": [
    "# Fly Hemibrain\n",
    "\n",
    "Playing around with some basic connectome data, from the [Fly Hemibrain](https://www.janelia.org/project-team/flyem/hemibrain) project. If you scroll down that page a little, under the heading \"Resources and relevant technologies\", the first link \"Compact connection matrix summary\" is a zip file with three `.csv` files (and a useful README), those files need to be moved into the directory `/notebooks/hemibrain/exported-traced-adjacencies/` for this script. I didn't want to post those files to a public github repo since (a) they're not my data and (b) they're like, a few hundred megabytes in total."
   ]
  },
  {
   "cell_type": "code",
   "execution_count": 1,
   "metadata": {},
   "outputs": [],
   "source": [
    "\"\"\"Playing around with the fly hemibrain data\"\"\"\n",
    "\n",
    "import networkx as nx\n",
    "import numpy as np\n",
    "import matplotlib.pyplot as plt\n",
    "\n",
    "import time"
   ]
  },
  {
   "cell_type": "markdown",
   "metadata": {},
   "source": [
    "## Load the graph"
   ]
  },
  {
   "cell_type": "code",
   "execution_count": 2,
   "metadata": {},
   "outputs": [
    {
     "name": "stdout",
     "output_type": "stream",
     "text": [
      "Attempting to read files in directory /notebooks/nx_graph_utils/hemibrain/exported-traced-adjacencies/\n",
      "Read in 21662 nodes and 3413160 edges in 18.295302152633667 s\n",
      "Name: \n",
      "Type: DiGraph\n",
      "Number of nodes: 21662\n",
      "Number of edges: 3413160\n",
      "Average in degree: 157.5644\n",
      "Average out degree: 157.5644\n"
     ]
    }
   ],
   "source": [
    "# Step 1: Just reading some csv files and attempting to make a networkx graph\n",
    "\n",
    "directory = \"/notebooks/nx_graph_utils/hemibrain/exported-traced-adjacencies/\"\n",
    "\n",
    "print(\"Attempting to read files in directory\", directory)\n",
    "\n",
    "nodes_file = \"traced-neurons.csv\"\n",
    "edges_file = \"traced-total-connections.csv\"\n",
    "\n",
    "edge_data = open(directory+edges_file, \"r\")\n",
    "next(edge_data, None)  # skip the first line of the file, which is just a header row\n",
    "\n",
    "t_start = time.time()\n",
    "FlyBrain = nx.parse_edgelist(edge_data, delimiter=\",\", create_using=nx.DiGraph, nodetype=int, data=[(\"n_synapses\", int)])\n",
    "t_end = time.time()\n",
    "\n",
    "print(\"Read in {} nodes and {} edges in {} s\".format(nx.number_of_nodes(FlyBrain), nx.number_of_edges(FlyBrain), t_end-t_start))\n",
    "\n",
    "\n",
    "print(nx.info(FlyBrain))"
   ]
  },
  {
   "cell_type": "markdown",
   "metadata": {},
   "source": [
    "It can take a while to run computations, so be choosy about what you try to run. Also, the adjacency matrix is 20k x 20k, so don't try to naively take third powers of it."
   ]
  },
  {
   "cell_type": "code",
   "execution_count": 3,
   "metadata": {},
   "outputs": [
    {
     "name": "stdout",
     "output_type": "stream",
     "text": [
      "Computed transitivity: 0.16152591521646892\n",
      "Computation took 186.56738376617432 s\n"
     ]
    }
   ],
   "source": [
    "from nx_graph_utils.graphstatistics import linearalgebra\n",
    "\n",
    "# linearalgebra.nfftriads(FlyBrain)  # Kills the notebook kernel, at least on my laptop.\n",
    "\n",
    "t_start = time.time()\n",
    "trans_flybrain = nx.transitivity(FlyBrain)\n",
    "t_end = time.time()\n",
    "print(\"Computed transitivity: {}\".format(trans_flybrain))\n",
    "print(\"Computation took {} s\".format(t_end - t_start))"
   ]
  },
  {
   "cell_type": "markdown",
   "metadata": {},
   "source": [
    "## Assortativity\n",
    "\n",
    "The assortivity coefficient is the correlation coefficient between the degrees of nodes joined by an edge. To elaborate, we think of two random variables X and Y which represent the degree of each node, and each edge represents one sample. We're computing the correlation coefficient between X and Y across all edges.\n",
    "\n",
    "The unweighted case treats all edges equally (i.e. all edges have weight 1). In the weighted case, the number of synapses between the pre- and post-synaptic neurons weights the contribution of each edge."
   ]
  },
  {
   "cell_type": "code",
   "execution_count": 3,
   "metadata": {},
   "outputs": [
    {
     "name": "stdout",
     "output_type": "stream",
     "text": [
      "Computing assortativity coefficient...\n",
      "Got in-degree/in-degree assortavity coefficient of 0.021227025736457995 in 19.825934410095215 s\n",
      "Unweighted Assortativity Coefficients:\n",
      " v sink, source >|in              out             \n",
      "--------------------------------------------------\n",
      "in               |0.0212270257    0.0132345597    \n",
      "out              |-0.0223338001   -0.0096649372   \n"
     ]
    }
   ],
   "source": [
    "print(\"Computing assortativity coefficient...\")\n",
    "t_start = time.time()\n",
    "assort_in_in = nx.algorithms.degree_pearson_correlation_coefficient(FlyBrain, x=\"in\",y=\"in\")\n",
    "t_end = time.time()\n",
    "print(\"Got in-degree/in-degree assortavity coefficient of {} in {} s\".format(assort_in_in, t_end - t_start))\n",
    "assort_in_out = nx.algorithms.degree_pearson_correlation_coefficient(FlyBrain, x=\"in\",y=\"out\")\n",
    "assort_out_in = nx.algorithms.degree_pearson_correlation_coefficient(FlyBrain, x=\"out\",y=\"in\")\n",
    "assort_out_out =nx.algorithms.degree_pearson_correlation_coefficient(FlyBrain, x=\"out\", y=\"out\")\n",
    "\n",
    "print(\"Unweighted Assortativity Coefficients:\")\n",
    "print(f\"{'v sink, source >':>17}|{'in':<16}{'out':<16}\")\n",
    "print(\"-\" * (17 + 1 + 16 + 16))\n",
    "print(f\"{'in':<17}|{assort_in_in:<16.10f}{assort_in_out:<16.10f}\")\n",
    "print(f\"{'out':<17}|{assort_out_in:<16.10f}{assort_out_out:<16.10f}\")"
   ]
  },
  {
   "cell_type": "code",
   "execution_count": null,
   "metadata": {},
   "outputs": [],
   "source": [
    "wt_ass_ii = nx.algorithms.degree_pearson_correlation_coefficient(FlyBrain, x=\"in\",y=\"in\", weight=\"n_synapses\")\n",
    "wt_ass_io = nx.algorithms.degree_pearson_correlation_coefficient(FlyBrain, x=\"in\",y=\"out\", weight=\"n_synapses\")\n",
    "wt_ass_oi = nx.algorithms.degree_pearson_correlation_coefficient(FlyBrain, x=\"out\",y=\"in\", weight=\"n_synapses\")\n",
    "wt_ass_oo = nx.algorithms.degree_pearson_correlation_coefficient(FlyBrain, x=\"out\", y=\"out\", weight=\"n_synapses\")\n",
    "\n",
    "print(\"Unweighted Assortativity Coefficients:\")\n",
    "print(f\"{'v sink, source >':>17}|{'in':<16}{'out':<16}\")\n",
    "print(\"-\" * (17 + 1 + 16 + 16))\n",
    "print(f\"{'in':<17}|{wt_ass_ii:<16.10f}{wt_ass_io:<16.10f}\")\n",
    "print(f\"{'out':<17}|{wt_ass_oi:<16.10f}{wt_ass_oo:<16.10f}\")"
   ]
  },
  {
   "cell_type": "markdown",
   "metadata": {},
   "source": [
    "## Pair and Triplet motifs\n",
    "\n",
    "Let's see if we can simply enumerate all the pair and triplet motifs in the hemibrain. First, we'll ignore cell type (since there's something like 4000 identified cell types in the fly brain, and no easy way to distinguish excitatory cells from inhibitory) and just look at the four possible ways that a pair of identified neurons can connect, then all the ways a triplet can.\n",
    "\n",
    "For pairs, we'll have an array called `pair_motifs` which counts the number of disconnected pairs, pairs where there is a one-way connection from lower ID# to higher ID#, pairs where there is a one-way connection in the other direction, and pairs that are reciprocally connected. In the end, we'll have `sum(pair_motifs) == (n_nodes choose 2)` and `pair_motifs[1] + pair_motifs[2] + 2 * pair_motifs[3] == n_edges`.\n",
    "\n",
    "For triplets, things will be trickier, so we'll cross that bridge when we come to it."
   ]
  },
  {
   "cell_type": "code",
   "execution_count": 3,
   "metadata": {},
   "outputs": [
    {
     "name": "stdout",
     "output_type": "stream",
     "text": [
      "Using the underlying undirected graph to get all pairs that have an edge (this might take a while...)\n",
      "Done! Took 20.115858554840088 s\n",
      "pair_motifs: [2.31197131e+08 9.95839000e+05 1.14979700e+06 6.33762000e+05]\n"
     ]
    }
   ],
   "source": [
    "# pair motifs: should be easy, since this is basically just counting edges.\n",
    "pair_motifs = np.zeros(4)\n",
    "\n",
    "print(\"Using the underlying undirected graph to get all pairs that have an edge (this might take a while...)\")\n",
    "t_start = time.time()\n",
    "n_nodes = nx.number_of_nodes(FlyBrain)\n",
    "pair_motifs[0] = n_nodes * (n_nodes - 1) // 2  # assume an empty graph\n",
    "uFlyBrain = FlyBrain.to_undirected(as_view=True)\n",
    "for e in uFlyBrain.edges:\n",
    "    lohi = (min(e), max(e)) in FlyBrain.edges\n",
    "    hilo = (max(e), min(e)) in FlyBrain.edges\n",
    "    pair_motifs[0] -= lohi + hilo\n",
    "    pair_motifs[lohi + 2 * hilo] += 1\n",
    "t_end = time.time()\n",
    "\n",
    "print(\"Done! Took\",t_end - t_start,\"s\")\n",
    "print(\"pair_motifs:\",pair_motifs)"
   ]
  },
  {
   "cell_type": "code",
   "execution_count": 19,
   "metadata": {},
   "outputs": [
    {
     "data": {
      "text/plain": [
       "Text(0, 0.5, 'Number of pairs')"
      ]
     },
     "execution_count": 19,
     "metadata": {},
     "output_type": "execute_result"
    },
    {
     "data": {
      "image/png": "[encoded data removed]",
      "text/plain": [
       "<Figure size 432x288 with 1 Axes>"
      ]
     },
     "metadata": {
      "needs_background": "light"
     },
     "output_type": "display_data"
    }
   ],
   "source": [
    "# plt.bar(range(4), pair_motifs)\n",
    "plt.bar([1,2,3], pair_motifs[1:])\n",
    "plt.xticks([1,2,3],labels=[\"lo-hi\",\"hi-lo\",\"recip\"])\n",
    "plt.xlabel(\"Connection type\")\n",
    "plt.ylabel(\"Number of pairs\")"
   ]
  },
  {
   "cell_type": "markdown",
   "metadata": {},
   "source": [
    "As expected, the graph is pretty sparse so the vast majority of pairs are disconnected (notice that the first entry in `pair_motifs` is a different scale of magnitude than the rest). So, the plot above only shows the counts for the pairs that are connected. The labels \"lo-hi\" and \"hi-lo\" refer to pairs of cells with only a one-way connection, separated by whether the arrow points from the lower ID# to the higher ID# or vice-versa. Since the labels should be essentially arbitrary, any discrepancy (if it's even significant) is an artifact of the labeling process, and not scientifically interesting.\n",
    "\n",
    "Also, there's no real reason to split up one-way arrows this way, except in the behind-the-scenes of the algorithm. What we're really interested in is, how many pairs of neurons synapse unidirectionally vs. reciprocally? And can we see it a little more clearly in the labels on the x axis? See below:"
   ]
  },
  {
   "cell_type": "code",
   "execution_count": 58,
   "metadata": {},
   "outputs": [
    {
     "data": {
      "text/plain": [
       "<matplotlib.offsetbox.AnnotationBbox at 0x7f7349b07240>"
      ]
     },
     "execution_count": 58,
     "metadata": {},
     "output_type": "execute_result"
    },
    {
     "data": {
      "image/png": "[encoded data removed]",
      "text/plain": [
       "<Figure size 432x288 with 1 Axes>"
      ]
     },
     "metadata": {
      "needs_background": "light"
     },
     "output_type": "display_data"
    }
   ],
   "source": [
    "import matplotlib.patches as mpatches\n",
    "from matplotlib.offsetbox import DrawingArea, OffsetImage, AnnotationBbox\n",
    "\n",
    "n_edges = nx.number_of_edges(FlyBrain)\n",
    "n_pairs = n_nodes * (n_nodes - 1) // 2\n",
    "\n",
    "# The second answer from stackoverflow:\n",
    "fig, ax = plt.subplots()\n",
    "# Option 1: Normalize by number of pairs\n",
    "# ax.bar([1,2], [(pair_motifs[1] + pair_motifs[2]) / n_pairs, pair_motifs[3] / n_pairs])\n",
    "# plt.ylabel(\"(1) Fraction of pairs\")\n",
    "\n",
    "# Option 2: Normalize by number of edges. In this case, double count reciprocal connections\n",
    "ax.bar([1,2], [(pair_motifs[1] + pair_motifs[2]) / n_edges, 2 * pair_motifs[3] / n_edges])\n",
    "plt.ylabel(\"(2) Fraction of edges\")\n",
    "\n",
    "plt.xlabel(\"Motif\")\n",
    "plt.title(\"Fly Hemibrain Pair Motifs\")\n",
    "\n",
    "ax.get_xaxis().set_ticks([1,2])\n",
    "# ax.get_xaxis().set_ticklabels([])\n",
    "\n",
    "# one-way arrow motif:\n",
    "motif1_drawing = DrawingArea(40, 20, 20, 10)\n",
    "m1_c1 = mpatches.Circle((-20,0), 10)\n",
    "m1_c2 = mpatches.Circle((20,0), 10)\n",
    "m1_a1 = mpatches.Arrow(-20, 0, 30, 0, width=10)\n",
    "motif1_drawing.add_artist(m1_a1)\n",
    "motif1_drawing.add_artist(m1_c1)\n",
    "motif1_drawing.add_artist(m1_c2)\n",
    "\n",
    "motif1_ab = AnnotationBbox(motif1_drawing, (1,0),\n",
    "                    xybox=(0,-5),\n",
    "                    xycoords=(\"data\",\"axes fraction\"),\n",
    "                    box_alignment=(0.5, 1),\n",
    "                    boxcoords=\"offset points\",\n",
    "                    bboxprops={\"edgecolor\" : \"none\"})\n",
    "ax.add_artist(motif1_ab)\n",
    "\n",
    "# two-way arrow motif:\n",
    "motif2_drawing = DrawingArea(40,20,20,10)\n",
    "m2_c1 = mpatches.Circle((-20,0), 10)\n",
    "m2_c2 = mpatches.Circle((20,0), 10)\n",
    "m2_a1 = mpatches.Arrow(-20,5,30,0,width=10)\n",
    "m2_a2 = mpatches.Arrow(20, -5, -30, 0, width=10)\n",
    "motif2_drawing.add_artist(m2_a1)\n",
    "motif2_drawing.add_artist(m2_a2)\n",
    "motif2_drawing.add_artist(m2_c1)\n",
    "motif2_drawing.add_artist(m2_c2)\n",
    "\n",
    "motif2_ab = AnnotationBbox(motif2_drawing, (2,0),\n",
    "                    xybox=(0,-5),\n",
    "                    xycoords=(\"data\",\"axes fraction\"),\n",
    "                    box_alignment=(0.5, 1),\n",
    "                    boxcoords=\"offset points\",\n",
    "                    bboxprops={\"edgecolor\" : \"none\"})\n",
    "ax.add_artist(motif2_ab)"
   ]
  },
  {
   "cell_type": "markdown",
   "metadata": {},
   "source": [
    "The number in parentheses on the y-axis lable specifies which option was used in the code above:\n",
    "\n",
    "**Option 1:** fraction of pairs of neurons that have the given connection motif.\n",
    "\n",
    "**Option 2:** fraction of edges that connect a pair of neurons with the given connectivity motif. Notice that in this case we count recipricol pairs twice, since two edges participate per pair."
   ]
  },
  {
   "cell_type": "code",
   "execution_count": null,
   "metadata": {},
   "outputs": [],
   "source": [
    "# triplet motifs are tricky to count accurately.\n",
    "\n",
    "triplet_motifs = np.zeros(64)\n",
    "for e in uFlyBrain.edges:\n",
    "    u,v = (min(e),max(e))\n",
    "    # to keep track of things, we partition the remaining nodes into 12 sets:\n",
    "    # First, the four possible neighborhoods (neither, u, v, both), then where the ID falls relative to u and v\n",
    "    # (less than u, between u and v, and greater than v)"
   ]
  },
  {
   "cell_type": "markdown",
   "metadata": {},
   "source": [
    "## Plots\n",
    "Let's try some basic plotting"
   ]
  },
  {
   "cell_type": "code",
   "execution_count": 3,
   "metadata": {},
   "outputs": [
    {
     "data": {
      "text/plain": [
       "[<matplotlib.lines.Line2D at 0x7fee9d20ee48>]"
      ]
     },
     "execution_count": 3,
     "metadata": {},
     "output_type": "execute_result"
    },
    {
     "data": {
      "image/png": "[encoded data removed]",
      "text/plain": [
       "<Figure size 432x288 with 1 Axes>"
      ]
     },
     "metadata": {
      "needs_background": "light"
     },
     "output_type": "display_data"
    }
   ],
   "source": [
    "plt.loglog(nx.degree_histogram(FlyBrain))  # degree = in-degree + out-degree, not the most useful"
   ]
  },
  {
   "cell_type": "markdown",
   "metadata": {},
   "source": []
  },
  {
   "cell_type": "markdown",
   "metadata": {},
   "source": [
    "## Misc scratchwork"
   ]
  },
  {
   "cell_type": "code",
   "execution_count": 4,
   "metadata": {},
   "outputs": [
    {
     "data": {
      "text/plain": [
       "223"
      ]
     },
     "execution_count": 4,
     "metadata": {},
     "output_type": "execute_result"
    }
   ],
   "source": [
    "FlyBrain.in_degree[5813054846]"
   ]
  },
  {
   "cell_type": "code",
   "execution_count": 5,
   "metadata": {},
   "outputs": [
    {
     "name": "stdout",
     "output_type": "stream",
     "text": [
      "[(223, 123), (100, 145), (92, 80), (452, 51), (83, 166)]\n"
     ]
    },
    {
     "ename": "TypeError",
     "evalue": "scatter() takes from 2 to 13 positional arguments but 21662 were given",
     "output_type": "error",
     "traceback": [
      "\u001b[0;31m---------------------------------------------------------------------------\u001b[0m",
      "\u001b[0;31mTypeError\u001b[0m                                 Traceback (most recent call last)",
      "\u001b[0;32m<ipython-input-5-a83a1000a6ff>\u001b[0m in \u001b[0;36m<module>\u001b[0;34m\u001b[0m\n\u001b[1;32m      1\u001b[0m \u001b[0min_out\u001b[0m \u001b[0;34m=\u001b[0m \u001b[0;34m[\u001b[0m\u001b[0;34m(\u001b[0m\u001b[0mFlyBrain\u001b[0m\u001b[0;34m.\u001b[0m\u001b[0min_degree\u001b[0m\u001b[0;34m[\u001b[0m\u001b[0mv\u001b[0m\u001b[0;34m]\u001b[0m\u001b[0;34m,\u001b[0m \u001b[0mFlyBrain\u001b[0m\u001b[0;34m.\u001b[0m\u001b[0mout_degree\u001b[0m\u001b[0;34m[\u001b[0m\u001b[0mv\u001b[0m\u001b[0;34m]\u001b[0m\u001b[0;34m)\u001b[0m \u001b[0;32mfor\u001b[0m \u001b[0mv\u001b[0m \u001b[0;32min\u001b[0m \u001b[0mFlyBrain\u001b[0m\u001b[0;34m.\u001b[0m\u001b[0mnodes\u001b[0m\u001b[0;34m]\u001b[0m\u001b[0;34m\u001b[0m\u001b[0;34m\u001b[0m\u001b[0m\n\u001b[1;32m      2\u001b[0m \u001b[0mprint\u001b[0m\u001b[0;34m(\u001b[0m\u001b[0min_out\u001b[0m\u001b[0;34m[\u001b[0m\u001b[0;34m:\u001b[0m\u001b[0;36m5\u001b[0m\u001b[0;34m]\u001b[0m\u001b[0;34m)\u001b[0m\u001b[0;34m\u001b[0m\u001b[0;34m\u001b[0m\u001b[0m\n\u001b[0;32m----> 3\u001b[0;31m \u001b[0mplt\u001b[0m\u001b[0;34m.\u001b[0m\u001b[0mscatter\u001b[0m\u001b[0;34m(\u001b[0m\u001b[0;34m*\u001b[0m\u001b[0min_out\u001b[0m\u001b[0;34m)\u001b[0m\u001b[0;34m\u001b[0m\u001b[0;34m\u001b[0m\u001b[0m\n\u001b[0m",
      "\u001b[0;31mTypeError\u001b[0m: scatter() takes from 2 to 13 positional arguments but 21662 were given"
     ]
    }
   ],
   "source": [
    "in_out = [(FlyBrain.in_degree[v], FlyBrain.out_degree[v]) for v in FlyBrain.nodes]\n",
    "print(in_out[:5])\n",
    "plt.scatter(*in_out)"
   ]
  },
  {
   "cell_type": "code",
   "execution_count": 12,
   "metadata": {},
   "outputs": [],
   "source": [
    "def degrees_by_edges(G, weight_threshold=0, weight_name=\"weight\"):\n",
    "    \"\"\"Return an m x 4 numpy array, where m is the number of edges.\n",
    "    Each row represents a distinct edge, and the columns are (in order):\n",
    "    pre_in, pre_out, post_in, post_out\n",
    "    That is, the in-degree and out-degree of the pre- and post-synatpic neuron of each edge.\n",
    "    \n",
    "    Ignores edges where edge attribute `weight_name` is strictly less than weight_threshold\"\"\"\n",
    "    pass\n",
    "## Poking around in the networkx docs has revealed this function is already implemented, here: "
   ]
  }
 ],
 "metadata": {
  "kernelspec": {
   "display_name": "Python 3",
   "language": "python",
   "name": "python3"
  },
  "language_info": {
   "codemirror_mode": {
    "name": "ipython",
    "version": 3
   },
   "file_extension": ".py",
   "mimetype": "text/x-python",
   "name": "python",
   "nbconvert_exporter": "python",
   "pygments_lexer": "ipython3",
   "version": "3.6.9"
  }
 },
 "nbformat": 4,
 "nbformat_minor": 4
}
