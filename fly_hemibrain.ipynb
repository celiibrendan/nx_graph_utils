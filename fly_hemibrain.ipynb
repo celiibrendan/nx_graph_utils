{
 "cells": [
  {
   "cell_type": "markdown",
   "metadata": {},
   "source": [
    "# Fly Hemibrain\n",
    "\n",
    "Playing around with some basic connectome data, from the [Fly Hemibrain](https://www.janelia.org/project-team/flyem/hemibrain) project. If you scroll down that page a little, under the heading \"Resources and relevant technologies\", the first link \"Compact connection matrix summary\" is a zip file with three `.csv` files (and a useful README), those files need to be moved into the directory `/notebooks/hemibrain/exported-traced-adjacencies/` for this script. I didn't want to post those files to a public github repo since (a) they're not my data and (b) they're like, a few hundred megabytes in total."
   ]
  },
  {
   "cell_type": "code",
   "execution_count": 1,
   "metadata": {},
   "outputs": [],
   "source": [
    "\"\"\"Playing around with the fly hemibrain data\"\"\"\n",
    "\n",
    "import networkx as nx\n",
    "import numpy as np\n",
    "import matplotlib.pyplot as plt\n",
    "import matplotlib.patches as mpatches\n",
    "from matplotlib.offsetbox import DrawingArea, OffsetImage, AnnotationBbox\n",
    "\n",
    "import time"
   ]
  },
  {
   "cell_type": "markdown",
   "metadata": {},
   "source": [
    "## Load the graph"
   ]
  },
  {
   "cell_type": "code",
   "execution_count": 2,
   "metadata": {},
   "outputs": [
    {
     "name": "stdout",
     "output_type": "stream",
     "text": [
      "Attempting to read files in directory /notebooks/nx_graph_utils/hemibrain/exported-traced-adjacencies/\n",
      "Read in 21662 nodes and 3413160 edges in 18.295302152633667 s\n",
      "Name: \n",
      "Type: DiGraph\n",
      "Number of nodes: 21662\n",
      "Number of edges: 3413160\n",
      "Average in degree: 157.5644\n",
      "Average out degree: 157.5644\n"
     ]
    }
   ],
   "source": [
    "# Step 1: Just reading some csv files and attempting to make a networkx graph\n",
    "\n",
    "directory = \"/notebooks/nx_graph_utils/hemibrain/exported-traced-adjacencies/\"\n",
    "\n",
    "print(\"Attempting to read files in directory\", directory)\n",
    "\n",
    "nodes_file = \"traced-neurons.csv\"\n",
    "edges_file = \"traced-total-connections.csv\"\n",
    "\n",
    "edge_data = open(directory+edges_file, \"r\")\n",
    "next(edge_data, None)  # skip the first line of the file, which is just a header row\n",
    "\n",
    "t_start = time.time()\n",
    "FlyBrain = nx.parse_edgelist(edge_data, delimiter=\",\", create_using=nx.DiGraph, nodetype=int, data=[(\"n_synapses\", int)])\n",
    "t_end = time.time()\n",
    "\n",
    "print(\"Read in {} nodes and {} edges in {} s\".format(nx.number_of_nodes(FlyBrain), nx.number_of_edges(FlyBrain), t_end-t_start))\n",
    "\n",
    "\n",
    "print(nx.info(FlyBrain))"
   ]
  },
  {
   "cell_type": "markdown",
   "metadata": {},
   "source": [
    "It can take a while to run computations, so be choosy about what you try to run. Also, the adjacency matrix is 20k x 20k, so don't try to naively take third powers of it."
   ]
  },
  {
   "cell_type": "code",
   "execution_count": 3,
   "metadata": {},
   "outputs": [
    {
     "name": "stdout",
     "output_type": "stream",
     "text": [
      "Computed transitivity: 0.16152591521646892\n",
      "Computation took 186.56738376617432 s\n"
     ]
    }
   ],
   "source": [
    "from nx_graph_utils.graphstatistics import linearalgebra\n",
    "\n",
    "# linearalgebra.nfftriads(FlyBrain)  # Kills the notebook kernel, at least on my laptop.\n",
    "\n",
    "t_start = time.time()\n",
    "trans_flybrain = nx.transitivity(FlyBrain)\n",
    "t_end = time.time()\n",
    "print(\"Computed transitivity: {}\".format(trans_flybrain))\n",
    "print(\"Computation took {} s\".format(t_end - t_start))"
   ]
  },
  {
   "cell_type": "markdown",
   "metadata": {},
   "source": [
    "## Assortativity\n",
    "\n",
    "The assortivity coefficient is the correlation coefficient between the degrees of nodes joined by an edge. To elaborate, we think of two random variables X and Y which represent the degree of each node, and each edge represents one sample. We're computing the correlation coefficient between X and Y across all edges.\n",
    "\n",
    "The unweighted case treats all edges equally (i.e. all edges have weight 1). In the weighted case, the number of synapses between the pre- and post-synaptic neurons weights the contribution of each edge."
   ]
  },
  {
   "cell_type": "code",
   "execution_count": 3,
   "metadata": {},
   "outputs": [
    {
     "name": "stdout",
     "output_type": "stream",
     "text": [
      "Computing assortativity coefficient...\n",
      "Got in-degree/in-degree assortavity coefficient of 0.021227025736457995 in 19.825934410095215 s\n",
      "Unweighted Assortativity Coefficients:\n",
      " v sink, source >|in              out             \n",
      "--------------------------------------------------\n",
      "in               |0.0212270257    0.0132345597    \n",
      "out              |-0.0223338001   -0.0096649372   \n"
     ]
    }
   ],
   "source": [
    "print(\"Computing assortativity coefficient...\")\n",
    "t_start = time.time()\n",
    "assort_in_in = nx.algorithms.degree_pearson_correlation_coefficient(FlyBrain, x=\"in\",y=\"in\")\n",
    "t_end = time.time()\n",
    "print(\"Got in-degree/in-degree assortavity coefficient of {} in {} s\".format(assort_in_in, t_end - t_start))\n",
    "assort_in_out = nx.algorithms.degree_pearson_correlation_coefficient(FlyBrain, x=\"in\",y=\"out\")\n",
    "assort_out_in = nx.algorithms.degree_pearson_correlation_coefficient(FlyBrain, x=\"out\",y=\"in\")\n",
    "assort_out_out =nx.algorithms.degree_pearson_correlation_coefficient(FlyBrain, x=\"out\", y=\"out\")\n",
    "\n",
    "print(\"Unweighted Assortativity Coefficients:\")\n",
    "print(f\"{'v sink, source >':>17}|{'in':<16}{'out':<16}\")\n",
    "print(\"-\" * (17 + 1 + 16 + 16))\n",
    "print(f\"{'in':<17}|{assort_in_in:<16.10f}{assort_in_out:<16.10f}\")\n",
    "print(f\"{'out':<17}|{assort_out_in:<16.10f}{assort_out_out:<16.10f}\")"
   ]
  },
  {
   "cell_type": "code",
   "execution_count": null,
   "metadata": {},
   "outputs": [],
   "source": [
    "wt_ass_ii = nx.algorithms.degree_pearson_correlation_coefficient(FlyBrain, x=\"in\",y=\"in\", weight=\"n_synapses\")\n",
    "wt_ass_io = nx.algorithms.degree_pearson_correlation_coefficient(FlyBrain, x=\"in\",y=\"out\", weight=\"n_synapses\")\n",
    "wt_ass_oi = nx.algorithms.degree_pearson_correlation_coefficient(FlyBrain, x=\"out\",y=\"in\", weight=\"n_synapses\")\n",
    "wt_ass_oo = nx.algorithms.degree_pearson_correlation_coefficient(FlyBrain, x=\"out\", y=\"out\", weight=\"n_synapses\")\n",
    "\n",
    "print(\"Unweighted Assortativity Coefficients:\")\n",
    "print(f\"{'v sink, source >':>17}|{'in':<16}{'out':<16}\")\n",
    "print(\"-\" * (17 + 1 + 16 + 16))\n",
    "print(f\"{'in':<17}|{wt_ass_ii:<16.10f}{wt_ass_io:<16.10f}\")\n",
    "print(f\"{'out':<17}|{wt_ass_oi:<16.10f}{wt_ass_oo:<16.10f}\")"
   ]
  },
  {
   "cell_type": "markdown",
   "metadata": {},
   "source": [
    "## Pair and Triplet motifs\n",
    "\n",
    "Let's see if we can simply enumerate all the pair and triplet motifs in the hemibrain. First, we'll ignore cell type (since there's something like 4000 identified cell types in the fly brain, and no easy way to distinguish excitatory cells from inhibitory) and just look at the four possible ways that a pair of identified neurons can connect, then all the ways a triplet can.\n",
    "\n",
    "For pairs, we'll have an array called `pair_motifs` which counts the number of disconnected pairs, pairs where there is a one-way connection from lower ID# to higher ID#, pairs where there is a one-way connection in the other direction, and pairs that are reciprocally connected. In the end, we'll have `sum(pair_motifs) == (n_nodes choose 2)` and `pair_motifs[1] + pair_motifs[2] + 2 * pair_motifs[3] == n_edges`.\n",
    "\n",
    "For triplets, things will be trickier, so we'll cross that bridge when we come to it."
   ]
  },
  {
   "cell_type": "code",
   "execution_count": 3,
   "metadata": {},
   "outputs": [
    {
     "name": "stdout",
     "output_type": "stream",
     "text": [
      "Using the underlying undirected graph to get all pairs that have an edge (this might take a while...)\n",
      "Done! Took 20.115858554840088 s\n",
      "pair_motifs: [2.31197131e+08 9.95839000e+05 1.14979700e+06 6.33762000e+05]\n"
     ]
    }
   ],
   "source": [
    "# pair motifs: should be easy, since this is basically just counting edges.\n",
    "pair_motifs = np.zeros(4)\n",
    "\n",
    "print(\"Using the underlying undirected graph to get all pairs that have an edge (this might take a while...)\")\n",
    "t_start = time.time()\n",
    "n_nodes = nx.number_of_nodes(FlyBrain)\n",
    "pair_motifs[0] = n_nodes * (n_nodes - 1) // 2  # assume an empty graph\n",
    "uFlyBrain = FlyBrain.to_undirected(as_view=True)\n",
    "for e in uFlyBrain.edges:\n",
    "    lohi = (min(e), max(e)) in FlyBrain.edges\n",
    "    hilo = (max(e), min(e)) in FlyBrain.edges\n",
    "    pair_motifs[0] -= lohi + hilo\n",
    "    pair_motifs[lohi + 2 * hilo] += 1\n",
    "t_end = time.time()\n",
    "\n",
    "print(\"Done! Took\",t_end - t_start,\"s\")\n",
    "print(\"pair_motifs:\",pair_motifs)"
   ]
  },
  {
   "cell_type": "code",
   "execution_count": 19,
   "metadata": {},
   "outputs": [
    {
     "data": {
      "text/plain": [
       "Text(0, 0.5, 'Number of pairs')"
      ]
     },
     "execution_count": 19,
     "metadata": {},
     "output_type": "execute_result"
    },
    {
     "data": {
      "image/png": "[encoded data removed]",
      "text/plain": [
       "<Figure size 432x288 with 1 Axes>"
      ]
     },
     "metadata": {
      "needs_background": "light"
     },
     "output_type": "display_data"
    }
   ],
   "source": [
    "# plt.bar(range(4), pair_motifs)\n",
    "plt.bar([1,2,3], pair_motifs[1:])\n",
    "plt.xticks([1,2,3],labels=[\"lo-hi\",\"hi-lo\",\"recip\"])\n",
    "plt.xlabel(\"Connection type\")\n",
    "plt.ylabel(\"Number of pairs\")"
   ]
  },
  {
   "cell_type": "markdown",
   "metadata": {},
   "source": [
    "As expected, the graph is pretty sparse so the vast majority of pairs are disconnected (notice that the first entry in `pair_motifs` is a different scale of magnitude than the rest). So, the plot above only shows the counts for the pairs that are connected. The labels \"lo-hi\" and \"hi-lo\" refer to pairs of cells with only a one-way connection, separated by whether the arrow points from the lower ID# to the higher ID# or vice-versa. Since the labels should be essentially arbitrary, any discrepancy (if it's even significant) is an artifact of the labeling process, and not scientifically interesting.\n",
    "\n",
    "Also, there's no real reason to split up one-way arrows this way, except in the behind-the-scenes of the algorithm. What we're really interested in is, how many pairs of neurons synapse unidirectionally vs. reciprocally? And can we see it a little more clearly in the labels on the x axis? See below:"
   ]
  },
  {
   "cell_type": "code",
   "execution_count": 83,
   "metadata": {},
   "outputs": [],
   "source": [
    "def pair_motif_graphic(M, graph_x_value, xybox=(0,-5)):\n",
    "    \"\"\"Takes adjacency matrix M for a 2-node directed graph and returns a graphic suitable for x tick labels.\n",
    "    \n",
    "    Returns an AnnotationBbox object.\"\"\"\n",
    "    da = DrawingArea(40, 20, 20, 10)\n",
    "    circle_1 = mpatches.Circle((-20,0), 10)\n",
    "    circle_2 = mpatches.Circle((20,0), 10)\n",
    "    r_arrow = mpatches.Arrow(-20, 5, 30, 0, width=10)\n",
    "    l_arrow = mpatches.Arrow(20, -5, -30, 0, width=10)\n",
    "    if M[0,1]:\n",
    "        da.add_artist(r_arrow)\n",
    "    if M[1,0]:\n",
    "        da.add_artist(l_arrow)\n",
    "    da.add_artist(circle_1)\n",
    "    da.add_artist(circle_2)\n",
    "    \n",
    "    motif_ab = AnnotationBbox(da, (graph_x_value, 0),\n",
    "                             xybox=(0,-5),\n",
    "                             xycoords=(\"data\",\"axes fraction\"),\n",
    "                             box_alignment=(0.5,1),\n",
    "                             boxcoords=\"offset points\",\n",
    "                             bboxprops={\"edgecolor\" : \"none\"})\n",
    "    return motif_ab\n",
    "\n",
    "\n",
    "def triplet_motif_graphic(M,graph_x_value, xybox=(0,-5), circle_radius=10, arrow_width=10):\n",
    "    da = DrawingArea(40, 60, 20, 30)\n",
    "    circle_0 = mpatches.Circle((-20,0), circle_radius)\n",
    "    circle_1 = mpatches.Circle((20,0), circle_radius)\n",
    "    circle_2 = mpatches.Cirlce((0,34), circle_radius)\n",
    "    arrow_01 = mpatches.Arrow(-20, 5, 20, 0, width=arrow_width)\n",
    "    arrow_10 = mpatches.Arrow(20, -5, -20, 0, width=arrow_width)\n",
    "    arrow_02 = mpatches.Arrow(-24, 2, 14, 23, width=arrow_width)\n",
    "    arrow_20 = mpatches.Arrow(4, 32, -14, -23, width=arrow_width)\n",
    "    arrow_12 = mpatches.Arrow(16, -2, -14, 23, width=arrow_width)\n",
    "    arrow_21 = mpatches.Arrow(4, 36, 14, -23, width=arrow_width)\n",
    "    if M[0,1]:\n",
    "        da.add_artist(arrow_01)\n",
    "    if M[0,2]:\n",
    "        da.add_artist(arrow_02)\n",
    "    if M[1,0]:\n",
    "        da.add_artist(arrow_10)\n",
    "    if M[1,2]:\n",
    "        da.add_artist(arrow_12)\n",
    "    if M[2,0]:\n",
    "        da.add_artist(arrow_20)\n",
    "    if M[2,1]:\n",
    "        da.add_artist(arrow_21)\n",
    "    da.add_artist(circle_0)\n",
    "    da.add_artist(circle_1)\n",
    "    da.add_artist(circle_2)\n",
    "    \n",
    "    motif_ab = AnnotationBbox(da, (graph_x_value, 0),\n",
    "                             xybox=(0,-5),\n",
    "                             xycoords=(\"data\",\"axes fraction\"),\n",
    "                             box_alignment=(0.5,1),\n",
    "                             boxcoords=\"offset points\",\n",
    "                             bboxprops={\"edgecolor\" : \"none\"})\n",
    "    return motif_ab\n",
    "        "
   ]
  },
  {
   "cell_type": "code",
   "execution_count": 85,
   "metadata": {},
   "outputs": [
    {
     "data": {
      "text/plain": [
       "<matplotlib.offsetbox.AnnotationBbox at 0x7f734a51a4a8>"
      ]
     },
     "execution_count": 85,
     "metadata": {},
     "output_type": "execute_result"
    },
    {
     "data": {
      "image/png": "[encoded data removed]",
      "text/plain": [
       "<Figure size 432x288 with 1 Axes>"
      ]
     },
     "metadata": {
      "needs_background": "light"
     },
     "output_type": "display_data"
    }
   ],
   "source": [
    "import matplotlib.patches as mpatches\n",
    "from matplotlib.offsetbox import DrawingArea, OffsetImage, AnnotationBbox\n",
    "\n",
    "n_edges = nx.number_of_edges(FlyBrain)\n",
    "n_pairs = n_nodes * (n_nodes - 1) // 2\n",
    "\n",
    "# The second answer from stackoverflow:\n",
    "fig, ax = plt.subplots()\n",
    "# Option 1: Normalize by number of pairs\n",
    "# ax.bar([1,2], [(pair_motifs[1] + pair_motifs[2]) / n_pairs, pair_motifs[3] / n_pairs])\n",
    "# plt.ylabel(\"(1) Fraction of pairs\")\n",
    "\n",
    "# Option 2: Normalize by number of edges. In this case, double count reciprocal connections\n",
    "# ax.bar([1,2], [(pair_motifs[1] + pair_motifs[2]) / n_edges, 2 * pair_motifs[3] / n_edges])\n",
    "# plt.ylabel(\"(2) Fraction of edges\")\n",
    "\n",
    "# Option 3: Unnormalized (just the counts)\n",
    "ax.bar([1,2], [(pair_motifs[1] + pair_motifs[2]), pair_motifs[3]])\n",
    "plt.ylabel(\"(3) Number of pairs\")\n",
    "\n",
    "plt.xlabel(\"Motif\")\n",
    "plt.title(\"Fly Hemibrain Pair Motifs\")\n",
    "\n",
    "ax.get_xaxis().set_ticks([1,2])\n",
    "ax.get_xaxis().set_ticklabels([])\n",
    "\n",
    "# one-way arrow motif graphic:\n",
    "ax.add_artist(pair_motif_graphic(np.array([[0,1],[0,0]]), 1))\n",
    "\n",
    "# two-way arrow motif graphic:\n",
    "ax.add_artist(pair_motif_graphic(np.array([[0,1],[1,0]]), 2))"
   ]
  },
  {
   "cell_type": "markdown",
   "metadata": {},
   "source": [
    "The number in parentheses on the y-axis lable specifies which option was used in the code above:\n",
    "\n",
    "**Option 1:** fraction of pairs of neurons that have the given connection motif.\n",
    "\n",
    "**Option 2:** fraction of edges that connect a pair of neurons with the given connectivity motif. Notice that in this case we count recipricol pairs twice, since two edges participate per pair.\n",
    "\n",
    "**Option 3:** Same as option 1, but not normalized (just a raw count of pairs of neurons)"
   ]
  },
  {
   "cell_type": "code",
   "execution_count": 73,
   "metadata": {},
   "outputs": [],
   "source": [
    "def directed_triplet_motif_index(G):\n",
    "    \"\"\"Return the directed motif index of three-node graph G.\n",
    "    \n",
    "    The motif index is then computed as follows:\n",
    "    Each possible (undirected) edge on the nodes of G is sorted in lexicographic order.\n",
    "    For each pair of vertices, two bits encode, in order, the presence of the edge from\n",
    "    lower index to higher index and the edge from higher index to lower index. These bits\n",
    "    are reversed and concatenated to form a single integer\n",
    "    \n",
    "    Example: G has three nodes, labeled i,j,k in sorted order. It has edge ij, ik, ki, and kj.\n",
    "    The lex order for the pairs is ij, ik, jk. Pair ij has edge ij (low-high) but not ji (high-low),\n",
    "    so the least significant bit is 1 and the second-least significant bit is 0. For pair ik, we have both\n",
    "    directed edges so those bits are 11. Lastly, pair jk has only the high-low edge, so the higher-order\n",
    "    bit is 1 while the lower bit is 0. Putting these bits together from right to left we get 101101,\n",
    "    which is 45 in decimal.\n",
    "    \n",
    "    !!! Note that the order of vertices in G has nothing to do with numerical order!\n",
    "        See networkx documentation about classes OrderedGraph and OrderedDiGraph.\n",
    "    \n",
    "    Returns an integer between 0 and 63 (inclusive)\n",
    "    \"\"\"\n",
    "    bit_selector = np.array([[0,1,4], [2,0,16], [8, 32, 0]])\n",
    "    return np.sum(bit_selector * nx.to_numpy_matrix(G).astypeype(int))\n",
    "\n",
    "\n",
    "def binary_digits(n, d):  # numpy-optimized\n",
    "    \"\"\"Returns an n x d array of the binary digits of each entry of array n\n",
    "    Parameters:\n",
    "        n : array_like\n",
    "            Integer values to be represented as binary digits\n",
    "        d : the number of digits; zero padding and/or truncation if necessary\n",
    "    Returns:\n",
    "        digits : an n x d binary array; each row is the digits of the corresponding entry of n. Least significant bit has index 0.\n",
    "    \"\"\"\n",
    "    return ((n[:, None] & (1 << np.arange(d))) > 0).astype(int)\n",
    "\n",
    "def index_to_directed_triplet_motif(n):\n",
    "    \"\"\"Return the adjacency matrix corresponding to motif with index n, as defined by the function\n",
    "    directed_triplet_motif_index\"\"\"\n",
    "    digs = binary_digits(np.array([n]),6)\n",
    "    A = np.zeros((3,3))\n",
    "    A[tuple([[0,1,0,2,1,2],[1,0,2,0,2,1]])] = digs\n",
    "    return A"
   ]
  },
  {
   "cell_type": "code",
   "execution_count": null,
   "metadata": {},
   "outputs": [],
   "source": [
    "# triplet motifs are tricky to count accurately.\n",
    "\n",
    "triplet_motifs = np.zeros(64)\n",
    "for e in uFlyBrain.edges:\n",
    "    # somewhat naive: iterate over union of neighbors of endpoints of e\n",
    "    for w in nx.node_boundary(uFlyBrain, e):\n",
    "        motif_index = directed_triplet_motif_index(nx.induced_subgraph(FlyBrain, [e[0],e[1],w]))\n",
    "        triplet_motifs[motif_index] += 1\n",
    "\n",
    "# now we need to correct for over-counted motifs:\n",
    "double_counted = []"
   ]
  },
  {
   "cell_type": "markdown",
   "metadata": {},
   "source": [
    "## Plots\n",
    "Let's try some basic plotting"
   ]
  },
  {
   "cell_type": "code",
   "execution_count": 3,
   "metadata": {},
   "outputs": [
    {
     "data": {
      "text/plain": [
       "[<matplotlib.lines.Line2D at 0x7fee9d20ee48>]"
      ]
     },
     "execution_count": 3,
     "metadata": {},
     "output_type": "execute_result"
    },
    {
     "data": {
      "image/png": "[encoded data removed]",
      "text/plain": [
       "<Figure size 432x288 with 1 Axes>"
      ]
     },
     "metadata": {
      "needs_background": "light"
     },
     "output_type": "display_data"
    }
   ],
   "source": [
    "plt.loglog(nx.degree_histogram(FlyBrain))  # degree = in-degree + out-degree, not the most useful"
   ]
  },
  {
   "cell_type": "markdown",
   "metadata": {},
   "source": []
  },
  {
   "cell_type": "markdown",
   "metadata": {},
   "source": [
    "## Notes on counting triplet motifs\n",
    "\n",
    "A naive algorithm to count the prevalence of triplet motifs would be the following: Since the nodes have ID numbers, they are sorted, so we can consider every triple of the form $(i,j,k)$ with $i < j < k$ and increment the appropriate motif counter. While this is guaranteed to work and count each motif exactly once, it runs in $O(n^3)$ time, where $n$ is the number of nodes in the graph. This takes a long time and ignores two things. The first is the constraint that, if we sum the counts of all the triplet motifs, we should $\\binom{n}{3}$, since we are counting each triplet only once -- in particular, this means we can ignore, say, the empty triplets (three nodes with no pairwise connections) since the number of those can be determined from counting all the non-empty triples. The second is that this graph is pretty sparse -- it has about $3 \\times 10^6$ edges out of a possible $9 \\times 10^8$ possible (directed) edges. So, we'd save a *lot* of time being clever. So, here's a mildly clever algorithm for counting triplet motifs on an undirected graph, which I will then extend to the directed case:\n",
    "\n",
    "Let $G = ([n],E)$ be an undirected graph on vertex set $[n] := \\{1,\\ldots,n\\}$. For a vertex $u$, let $N(u) = \\{v \\in [n] : \\{u,v\\}\\in E\\}$ denote the neighborhood of $u$. Every edge $e = (u,v)$ partitions the vertices into four sets, which I'll denote $X,U,V,W$. These are, respectively, nodes connected to neither $u$ nor $v$, nodes connected to $u$ only, nodes connected to $v$ only, and nodes connected to both $u$ and $v$. For a given trio of vertices $\\{u,v,z\\}$, we can determine which of the 7 nonempty motifs we see on those vertices and increment the appropriate counter. The issue is, we will overcount. The partition tells us exactly how often we overcount: For $x \\in X$, we will only ever see $\\{u,v,x\\}$ once. For $u' \\in U$, we will count the trio $\\{u,u',v\\}$ twice: once when we consider edge $e = \\{u,v\\}$ and once when we consider $e' = \\{u,u'\\}$. For $v' \\in V$ it's the same. For $w \\in W$, we will actually see it three times: once when we consider $e = \\{u,v\\}$, once when we consider $e' = \\{u,w\\}$, and once when we consider $e'' = \\{v,w\\}$.\n",
    "\n",
    "This suggests the following algorithm:\n",
    "\n",
    "```\n",
    "Input: G = ([n],E)\n",
    "Output: motif_counts, the number of occurrences of each triplet motif in G\n",
    "\n",
    "Initialize motif_counts to zeros\n",
    "\n",
    "For each edge e of G\n",
    "    compute the sets U, V, W\n",
    "    add n - (|U| + |V| + |W| + 2) to motif_counts[one-edge motif]\n",
    "    add |U|/ 2 + |V| / 2 to motif_counts[two-edge motif]\n",
    "    add |W| / 3 to motif_counts[three-edge motif]\n",
    "\n",
    "Set motif_counts[empty motif] = (n choose 3) - sum(other motif counts)\n",
    "\n",
    "return motif_counts\n",
    "```\n",
    "The trickiest part is computing those sets -- this takes time proportional to the size of the neighborhood(s) of $u$ and $v$. So, we end up with an algorithm that takes $O(|E| \\cdot \\Delta)$ time, where $\\Delta$ is the maximum degree of a node in $G$.\n",
    "\n",
    "To extend this to a directed graph, we actually do the same basic algorithm to the underlying undirected graph:\n",
    "\n",
    "```\n",
    "Input: Directed G = ([n],E)\n",
    "Output: motif_counts, the number of occurrences of each triplet motif in G\n",
    "\n",
    "Initialize motif_counts to zeros\n",
    "\n",
    "Set G' = to_undirected(G)\n",
    "\n",
    "for each edge e of G'\n",
    "    compute the sets U', V', W' in G'\n",
    "    add n - (|U| + |V| + |W| + 2) to motif_counts[e's type]\n",
    "    for u' in U'\n",
    "        find the induced subgraph on e and u' in G\n",
    "        increment the corresponding counter\n",
    "    for v' in V'\n",
    "        find the induced subgraph on e and v' in G\n",
    "        increment the corresponding counter\n",
    "    for w' in W'\n",
    "        find the induced subgraph on e and w' in G\n",
    "        increment the corresponding counter\n",
    "\n",
    "divide the counters corresponding to 2 undirected edge motifs by 2\n",
    "divide the counters corresponding to 3 undirected edge motifs by 3\n",
    "\n",
    "return motif_counts\n",
    "```\n",
    "\n",
    "Notice that the main difference is, for each undirected motif there correspond several directed motifs, so we have to count a little more carefully.\n",
    "\n",
    "Combining this with a breadth-first search might speed things up a little more, by letting us manage which neighborhoods need to be computed at any given time."
   ]
  },
  {
   "cell_type": "markdown",
   "metadata": {},
   "source": [
    "## Misc scratchwork"
   ]
  },
  {
   "cell_type": "code",
   "execution_count": 4,
   "metadata": {},
   "outputs": [
    {
     "data": {
      "text/plain": [
       "223"
      ]
     },
     "execution_count": 4,
     "metadata": {},
     "output_type": "execute_result"
    }
   ],
   "source": [
    "FlyBrain.in_degree[5813054846]"
   ]
  },
  {
   "cell_type": "code",
   "execution_count": 63,
   "metadata": {},
   "outputs": [
    {
     "name": "stdout",
     "output_type": "stream",
     "text": [
      "[(223, 123), (100, 145), (92, 80), (452, 51), (83, 166)]\n"
     ]
    },
    {
     "data": {
      "text/plain": [
       "<matplotlib.collections.PathCollection at 0x7f7349d23400>"
      ]
     },
     "execution_count": 63,
     "metadata": {},
     "output_type": "execute_result"
    },
    {
     "data": {
      "image/png": "[encoded data removed]",
      "text/plain": [
       "<Figure size 432x288 with 1 Axes>"
      ]
     },
     "metadata": {
      "needs_background": "light"
     },
     "output_type": "display_data"
    }
   ],
   "source": [
    "in_out = [(FlyBrain.in_degree[v], FlyBrain.out_degree[v]) for v in FlyBrain.nodes]\n",
    "print(in_out[:5])\n",
    "# plt.xscale('log')\n",
    "# plt.yscale('log')\n",
    "plt.plot([min(FlyBrain.in_degree),max(FlyBrain.in_degree)], [min(FlyBrain.out_degree), max(FlyBrain.out_degree)])\n",
    "plt.scatter(FlyBrain.in_degree, FlyBrain.out_degree)"
   ]
  },
  {
   "cell_type": "code",
   "execution_count": 12,
   "metadata": {},
   "outputs": [],
   "source": [
    "def degrees_by_edges(G, weight_threshold=0, weight_name=\"weight\"):\n",
    "    \"\"\"Return an m x 4 numpy array, where m is the number of edges.\n",
    "    Each row represents a distinct edge, and the columns are (in order):\n",
    "    pre_in, pre_out, post_in, post_out\n",
    "    That is, the in-degree and out-degree of the pre- and post-synatpic neuron of each edge.\n",
    "    \n",
    "    Ignores edges where edge attribute `weight_name` is strictly less than weight_threshold\"\"\"\n",
    "    pass\n",
    "## Poking around in the networkx docs has revealed this function is already implemented, here: "
   ]
  }
 ],
 "metadata": {
  "kernelspec": {
   "display_name": "Python 3",
   "language": "python",
   "name": "python3"
  },
  "language_info": {
   "codemirror_mode": {
    "name": "ipython",
    "version": 3
   },
   "file_extension": ".py",
   "mimetype": "text/x-python",
   "name": "python",
   "nbconvert_exporter": "python",
   "pygments_lexer": "ipython3",
   "version": "3.6.9"
  }
 },
 "nbformat": 4,
 "nbformat_minor": 4
}
